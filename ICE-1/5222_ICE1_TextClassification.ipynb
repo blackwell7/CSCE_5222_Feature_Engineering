{
 "cells": [
  {
   "cell_type": "markdown",
   "metadata": {
    "id": "tS9jqNhszTzD"
   },
   "source": [
    "# 5222: Feature Engineering ICE#1\n",
    "## Rubric\n",
    "\n",
    "\n",
    "1. Complete and proper Github Submission (10%)\n",
    "2. Complete and proper submission to Canvas (5%)\n",
    "3. Source Code (50%)\n",
    "4. Explaining the answers (30%)\n",
    "5. Commenting, formatting, and visualizing your code properly and timely submission (5%)"
   ]
  },
  {
   "cell_type": "markdown",
   "metadata": {
    "id": "TZwTxPp_twQs"
   },
   "source": [
    "Please goto https://towardsdatascience.com/text-classification-in-python-dd95d264c802 and follow the article. \n",
    "This article is for text classification using python. \n",
    "Their Github is available at https://github.com/miguelfzafra/Latest-News-Classifier/tree/master/0.%20Latest%20News%20Classifier. \n",
    "Follow their step 00,01,02,03 and 04. Use the same workbook to execute your code"
   ]
  },
  {
   "cell_type": "markdown",
   "metadata": {},
   "source": [
    "Alexis Blackwell\n",
    "CSCE 5222 - Feature Engineering\n",
    "\n",
    "In order to complete this activity, the Github code provided in the link was used and then referenced in order to then classify another article about autonomous cars [2]."
   ]
  },
  {
   "cell_type": "markdown",
   "metadata": {},
   "source": [
    "# Step 00\n",
    "Step 00 is the first and most important part of feature engineering. In this step a database is used that contains the information for the training and testing datasets. In this case, the data being used is news articles that were gathered from the BBC. These articles are either classified as business, entertainment, politics, sport, or tech. This is essentially supervised learning which was discussed in class as being a machine learning method where the training dataset and labels are provided. The overall goal of the machine learning models is to create a model that when presented with a news article, be able to classify the news article based on the content in the article.\n",
    "\n",
    "This completed step can be found at: \n",
    "[\"C:\\Users\\black\\CSCE5222_Feature_Engineering\\Feature_Engineering_ICE_1\\Latest-News-Classifier-master\\0. Latest News Classifier\\01. Dataset Creation\\01. Dataset Creation.R\"]"
   ]
  },
  {
   "cell_type": "markdown",
   "metadata": {},
   "source": [
    "# Step 01\n",
    "Step 01 is the dataset creation step. In this step, the data that was gathered in step 00 was used to create the training and testing datasets. This involves using R to convert the text files into a csv file. In the csv file, there are several columns which are “File_Name, Content, Category, Complete_Filename”.\n",
    "\n",
    "This completed step can be found at: \n",
    "[\"C:\\Users\\black\\CSCE5222_Feature_Engineering\\Feature_Engineering_ICE_1\\Latest-News-Classifier-master\\0. Latest News Classifier\\01. Dataset Creation\\01. Dataset Creation.R\"]"
   ]
  },
  {
   "cell_type": "markdown",
   "metadata": {},
   "source": [
    "# Step 02\n",
    "The next step of text classification is the exploratory data analysis step. This step uses the datasets created in the previous step. This involves loading the dataset as a Dataframe. The first major part of this step is to create a bar chart that shows how many different types of articles there are for each category. In this case, there are 510 business articles, 386 entertainment articles, 417 politics articles, 511 sports articles, and 401 tech articles. The next step is then to graph the percentage of articles which shows 22.9% are business, 17.3% entertainment, 18.7% are politics, 23.0% are sport, and 18.0% are tech [2]. Overall, this shows that the number of articles is a large amount which contains approximately an equal amount of data in each class. This is important as large datasets are necessary when training a model otherwise it may results in misclassification of the testing data. Also, an equal amount of each class is useful in order to properly train the model to recognize each class.\n",
    "After the dataset has been analyzed, the next step is find the length of each of the news articles and then plot that value. Through this plot, it can be seen that the range of the lengths of news articles is between 0 and 5000 characters. Afterwards a box plot is used to show the lengths of each article for each category. The result shows that there is not much difference between the lengths for each article in each category. This is also an important part of classification as an article that is too big could outweighs other articles that may be significantly smaller. This new dataset is then saved as a pickle file.\n",
    "\n",
    "This completed step can be found at: \n",
    "[\"C:\\Users\\black\\CSCE5222_Feature_Engineering\\Feature_Engineering_ICE_1\\Latest-News-Classifier-master\\0. Latest News Classifier\\02. Exploratory Data Analysis\\02. Exploratory Data Analysis.ipynb\"]"
   ]
  },
  {
   "cell_type": "markdown",
   "metadata": {},
   "source": [
    "# Step 03\n",
    "Step 03 is the feature engineering step of this process in which. These steps are text cleaning and preparation, label coding, train-test split, and text representation. The first part is the text cleaning and preparation. In order to do this the overall dataset is used which contains the news articles. There are several characters which are present in the articles which do not need to be used for classification. These characters were determined to be “\\r,\\n,\\, “. Each of these characters are present in the article but are only present due to the way python interprets text. In order to represent the text correctly, each of these characters need to be replaced with the correct spacing. This is done in the 1.1 Special Character Cleaning Step. Afterwards is the 1.2 Upcase\\downcase step which focuses on changing uppercase letters to the lowercase forms. This is done in order to avoid confusion on whether an uppercase word is the same as the lowercase word. Next is 1.3 Punctuation signs which is a step where any punctuation marks such as “.” or “!” are removed since the model will only look at the words used to classify the article. This reduces the amount of information that will need to be considered by the model. Next would be step 1.4 Possessive Pronouns. This step removes the apostrophe s that comes at the end of possessive words. This turns the words from “the dog’s ball” to just “the dog ball”. Again this is a similar step to step 1.3 as the apostrophe is not necessary for classification. The next step that is performed is 1.5 Stemming and Lemmatization which is used to reduce words to a simpler form such as reducing the word cars to just car. This is an example of stemming where the end of the word is removed to reduce the word to a more basic form. Lemmatization however is the simplification based on the word itself. In this activity, lemmatization was used instead of stemming. Lastly is Step 1.6 Stop Words in which the stop words are removed from the text. In this activity, the stop words are “'i', 'me', 'my', 'myself', 'we', 'our', 'ours', 'ourselves', 'you', \"you're\"”. These words are also unnecessary for classification as they do not contain any information about the content of the article.\n",
    "After this is done each of the possible classes are translated to a numerical value, which are 0,1,2,3,4. Each article is assigned a value based on the category of that article. The next step is to split the dataset into a training and testing dataset. This was discussed in class as a dataset will need to be used to train the model whereas a different dataset will need to be used to test the model. Afterwards text representation occurs. In this step of the activity, term frequency-inverse document frequency (TF-IDF) is used as the main features. In TF-IDF, the frequency of words is converted to a feature vector. After doing this, it was found that unigrams or single elements from a sequence matched the predicted category accurately. However, bigrams or two elements from a sequence did not match the predicted category very well. After doing this step, the next step is model training.\n",
    "\n",
    "This completed step can be found at: \n",
    "[\"C:\\Users\\black\\CSCE5222_Feature_Engineering\\Feature_Engineering_ICE_1\\Latest-News-Classifier-master\\0. Latest News Classifier\\03. Feature Engineering\\03. Feature Engineering.ipynb\"]"
   ]
  },
  {
   "cell_type": "markdown",
   "metadata": {},
   "source": [
    "# Step 04\n",
    "The last step in this is model generation which includes model training and testing. The models used was Random Forest, SVM, KNN, Multinomial Navie Bayes, Multinomial Logistic Regression, and Gradient Boosting machine models. Each of these models can be used to essentially predict the category or tag of a piece of text. In order to train and test the models, the training and testing datasets created in step 03 are used in this step.\n",
    "\n",
    "Location of each model:\n",
    "\"C:\\Users\\black\\CSCE5222_Feature_Engineering\\Feature_Engineering_ICE_1\\Latest-News-Classifier-master\\0. Latest News Classifier\\04. Model Training\""
   ]
  },
  {
   "cell_type": "markdown",
   "metadata": {},
   "source": [
    "# After successfully implementing their code. Try to gather data from an online URL related to autonomous cars (your choice but a long article)\n",
    "# Use all techniques covered in the above code on the dataset that you have just created. "
   ]
  },
  {
   "cell_type": "markdown",
   "metadata": {},
   "source": [
    "Article Chosen was: \"How driverless cars will change our world\" by Jenny Cusack\n",
    "https://www.bbc.com/future/article/20211126-how-driverless-cars-will-change-our-world [1]"
   ]
  },
  {
   "cell_type": "code",
   "execution_count": 1,
   "metadata": {},
   "outputs": [],
   "source": [
    "# Step 00\n",
    "# import necessary libraries\n",
    "import pickle\n",
    "import pandas as pd\n",
    "import re\n",
    "import nltk\n",
    "from nltk.corpus import stopwords\n",
    "from nltk.stem import WordNetLemmatizer\n",
    "from sklearn.feature_extraction.text import TfidfVectorizer\n",
    "from sklearn.model_selection import train_test_split\n",
    "from sklearn.feature_selection import chi2\n",
    "import numpy as np\n",
    "from sklearn.metrics import classification_report, confusion_matrix, accuracy_score\n",
    "from sklearn.neighbors import KNeighborsClassifier"
   ]
  },
  {
   "cell_type": "markdown",
   "metadata": {},
   "source": [
    "# Step 00 \n",
    "The first step in this section is to get article from internet and copy into a text file\n",
    "\n",
    "Text file location: \n",
    "\"C:\\Users\\black\\CSCE5222_Feature_Engineering\\Feature_Engineering_ICE_1\\autonomous_cars.txt\""
   ]
  },
  {
   "cell_type": "markdown",
   "metadata": {},
   "source": [
    "# Step 01\n",
    "This is the dataset creation step. In this step, the text is transfered from a .txt file into a dataframe. This is done so that the article content is stored within a dataframe as a string object. The dataframe will also be used to compare the original content vs the content after going through text cleaning and preparation.  "
   ]
  },
  {
   "cell_type": "code",
   "execution_count": 2,
   "metadata": {},
   "outputs": [
    {
     "data": {
      "text/html": [
       "<div>\n",
       "<style scoped>\n",
       "    .dataframe tbody tr th:only-of-type {\n",
       "        vertical-align: middle;\n",
       "    }\n",
       "\n",
       "    .dataframe tbody tr th {\n",
       "        vertical-align: top;\n",
       "    }\n",
       "\n",
       "    .dataframe thead th {\n",
       "        text-align: right;\n",
       "    }\n",
       "</style>\n",
       "<table border=\"1\" class=\"dataframe\">\n",
       "  <thead>\n",
       "    <tr style=\"text-align: right;\">\n",
       "      <th></th>\n",
       "      <th>File_Name</th>\n",
       "      <th>Content</th>\n",
       "      <th>Changed_Content</th>\n",
       "      <th>Category</th>\n",
       "      <th>Complete_Filename</th>\n",
       "    </tr>\n",
       "  </thead>\n",
       "  <tbody>\n",
       "    <tr>\n",
       "      <th>0</th>\n",
       "      <td>autonomous_cars</td>\n",
       "      <td>Self-driving vehicles are steadily becoming a ...</td>\n",
       "      <td>Self-driving vehicles are steadily becoming a ...</td>\n",
       "      <td>tech</td>\n",
       "      <td>autonomous_cars-tech.txt</td>\n",
       "    </tr>\n",
       "  </tbody>\n",
       "</table>\n",
       "</div>"
      ],
      "text/plain": [
       "         File_Name                                            Content  \\\n",
       "0  autonomous_cars  Self-driving vehicles are steadily becoming a ...   \n",
       "\n",
       "                                     Changed_Content Category  \\\n",
       "0  Self-driving vehicles are steadily becoming a ...     tech   \n",
       "\n",
       "          Complete_Filename  \n",
       "0  autonomous_cars-tech.txt  "
      ]
     },
     "metadata": {},
     "output_type": "display_data"
    }
   ],
   "source": [
    "#Step 10\n",
    "text = open(r\"C:\\Users\\black\\CSCE5222_Feature_Engineering\\Feature_Engineering_ICE_1\\autonomous_cars.txt\",'r')\n",
    "content = text.read() #\n",
    "#print(content) #check\n",
    "file_name = \"autonomous_cars\" #file name\n",
    "category = \"tech\" # category\n",
    "complete_filename = \"autonomous_cars-tech.txt\" \n",
    "df_text = pd.DataFrame()\n",
    "\n",
    "data = [[file_name], #list of data\n",
    "    [content],\n",
    "    [category],\n",
    "    [complete_filename]]\n",
    "\n",
    "df_text['File_Name'] = data[0]\n",
    "df_text['Content'] = data[1]\n",
    "df_text['Changed_Content'] = data[1]\n",
    "df_text['Category'] = data[2]\n",
    "df_text['Complete_Filename'] = data[3]\n",
    "display(df_text)"
   ]
  },
  {
   "cell_type": "markdown",
   "metadata": {},
   "source": [
    "# Step 02\n",
    "This step is originally the data analytics step where the datasets are looked at for certain metrics. The number of articles in each category, percentage of each article for each category, and the length of the article are all metrics that were determined in this step. However, since there is only one article in this dataset, then the only applicable data analytic metric is the length of the article. "
   ]
  },
  {
   "cell_type": "code",
   "execution_count": 3,
   "metadata": {},
   "outputs": [
    {
     "name": "stdout",
     "output_type": "stream",
     "text": [
      "0    15057\n",
      "Name: Content, dtype: int64\n"
     ]
    }
   ],
   "source": [
    "#Step 20\n",
    "#Get Article Length\n",
    "length = df_text['Content'].str.len() #get text length\n",
    "print(length)"
   ]
  },
  {
   "cell_type": "markdown",
   "metadata": {},
   "source": [
    "# Step 03\n",
    "The next step is the text cleaning step which is important to turn the text from the raw input into something that could be inputted by a model."
   ]
  },
  {
   "cell_type": "code",
   "execution_count": 4,
   "metadata": {},
   "outputs": [
    {
     "data": {
      "text/plain": [
       "'Self-driving vehicles are steadily becoming a reality despite the many hurdles still to be overcome â€“ and they could change our world in some unexpected ways.\\nI\\n\\nIt\\'s a late night in the Metro area of Phoenix, Arizona. Under the artificial glare of street lamps, a car can be seen slowly approaching. Active sensors on the vehicle radiate a low hum. A green and blue \\'W\\' glows from the windscreen, giving off just enough light to see inside â€“ to a completely empty driver seat.\\n\\nThe wheel navigates the curb steadily, parking as an arrival notification pings on the phone of the person waiting for it. When they open the door to climb inside, a voice greets them over the vehicle\\'s sound system. \"Good evening, this car is all yours â€“ with no one upfront,\" it says.\\n\\nThis is a Waymo One robotaxi, hailed just 10 minutes ago using an app. The open use of this service to the public, slowly expanding across the US, is one of the many developments signalling that driverless technology is truly becoming a part of our lives.\\n\\nThe promise of driverless technology has long been enticing. It has the potential to transform our experience of commuting and long journeys, take people out of high-risk working environments and streamline our industries. It\\'s key to helping us build the cities of the future, where our reliance and relationship with cars are redefined â€“ lowering carbon emissions and paving the way for more sustainable ways of living. And it could make our travel safer. The World Health Organization estimates that more than 1.3 million people die each year as a result of road traffic crashes. \"We want safer roads and less fatalities. Automation ultimately could provide that,\" says Camilla Fowler, head of automated transport for the UK\\'s Transport Research Laboratory (TRL).\\n\\nBut in order for driverless technology to become mainstream, much still needs to change. \\n\\n\"Driverless vehicles should be a very calm and serene way of getting from A to B. But not every human driver around it will be behaving in that way,\" says David Hynd, chief scientist for safety and investigations at TRL. \"It\\'s got to be able to cope with human drivers speeding, for instance, or breaking the rules of the road.\"\\n\\nAnd that\\'s not the only challenge. There\\'s regulation, rethinking the highway code, public perception, improving the infrastructure of our streets, towns, cities, and the big question of ultimate liability for road accidents. \"The whole insurance industry is looking into how they\\'re going to deal with that change from a person being responsible and in charge to the vehicle doing that,\" says Richard Jinks, vice president of commercial at Oxfordshire-based driverless vehicle software company Oxbotica, which has been testing its technology in cars and delivery vehicles at several locations across the UK and Europe. \\n\\nThe ultimate vision experts are working towards is of completely driverless vehicles, both within industry, wider transport networks, and personal-use cars, that can be deployed and used anywhere and everywhere around the world.\\nMcity puts driverless cars through their paces in an environment that mimics a real city, complete with crossing pedestrians (Credit: Jeff Kowalsky/AFP/Getty Images)\\n\\nMcity puts driverless cars through their paces in an environment that mimics a real city, complete with crossing pedestrians (Credit: Jeff Kowalsky/AFP/Getty Images)\\n\\nBut with all these hurdles in place, what exactly does the next 10 years have in store for autonomous vehicles?\\n\\nTwo years from now\\n\\nThe biggest hurdle for those in the driverless technology industry is how to get the cars to operate safely and effectively in complex and unpredictable human environments. Cracking this part of the puzzle will be the major focus of the next two years.\\n\\nAt the Mcity Test Facility at the University of Michigan, experts are addressing this. The world\\'s first purpose-built testing ground for autonomous vehicles, it\\'s a mini-town of sorts, made up of 16 acres of road and traffic infrastructure. It includes traffic signals and signs, underpasses, building facades, tree cover, home and garage exterior for testing delivery and ride-hailing, and different terrains such as road, pedestrian walkways, railway tracks, and road-markings which the vehicles must navigate. It\\'s here that experts test scenarios that even the most experienced of drivers may be pressed to handle, from children playing in the street to two cars trying to merge on a junction at the same time.\\nChange Agents\\n\\nWe know the world has to change for humanity to thrive. But what are the most promising solutions that could provide the kind of transformation we need? In a world adjusting to the recent global pandemic, Change Agents examines innovations and technologies that could make our planet a better, healthier place to live.\\n\\n\"In order to test driverless technology like this, it depends on hundreds of different variables in any given situation,\" explains Necmiye Ozay, associate professor of electrical and computer engineering at the University of Michigan. Her solution is to create a group of varied thinkers.\\n\\n\"We\\'re trying to bring people from different parts of the university â€“ not only engineers, but we have people from across disciplines such as psychology, more human-machine-interaction type people, because there are lots of angles to this problem we are trying to solve when it comes to safety,\" says Ozay. In the facility, Ozay and her team can test different traffic scenarios, as well as explore how autonomous vehicles communicate with each other yet keep vehicle and personal data secure from hackers.\\n\\nThat self-driving taxis are already on the roads in Phoenix, Arizona, is due to a prolonged testing process like the one Ozay\\'s team is conducting. Currently only available as a test service to the public in small defined areas, in the next two years there are plans to release the taxis on a greater and wider scale. For example, US-based company Waymo is currently rolling out to new city test sites that could very realistically see robotaxis operational in San Francisco and New York by 2023. But their co-chief executive Tekedra Mawakana was cautious to say what further roll out of its service there might be, and where, because \"safety takes time\".\\n\\nAutoX, a start-up funded by Alibaba, launched its fully driverless RoboTaxi in Shanghai, China in 2020. By 2023 it\\'s likely their service will be available in other cities across China, as well as in California.\\n\\nMuch of the driverless technology already in use exists in industrial settings like mines, warehouses, and ports, but Hynd believes in the next two years we can expect to see this extended to \"last mile delivery\". This means the final part of a journey for goods and services â€“ the point at which they are delivered to the consumer. For example, autonomous HGV trucks on motorways or even delivery vehicles for products and groceries.\\n\\nFive years from now\\n\\nWhile Apple says it is aiming to launch fully self-driving electric cars four years from now, industry experts are more cautious about what the near-future holds.\\n\\nAccording to Fowler, the conversation around regulation and insurance companies\\' new role within this transport space needs to mature. \"It\\'s got to be a very iterative approach where we\\'re starting with pods and shuttles, or we\\'re starting with off-highway vehicles where you can see such a benefit, and you\\'ve got a more controlled environment potentially, and what works with that,\" she says. \"Then we can scale it up and across more vehicle types, more use cases.\"\\nAutonomous shuttles, such as these in Iserlohn, Germany, could help to link passengers on public transport to other parts of a city (Credit: Alamy)\\n\\nAutonomous shuttles, such as these in Iserlohn, Germany, could help to link passengers on public transport to other parts of a city (Credit: Alamy)\\n\\nOne new space we can expect to see driverless technology deployed in is high-risk environments, from nuclear plants to military settings, to limit the dangers to human life, says Fowler. A Rio Tinto mine in Western Australia, for example, is currently operating the largest autonomous fleet in the world. The trucks are controlled by a centralised system miles away in Perth.\\n\\n\"If you can take people out of that and you can have vehicles that are driving themselves, and are fully automated even, if you\\'ve got somebody who\\'s remotely needing to control that vehicle in that high-risk environment then that\\'s got to be good,\" says Fowler.\\n\\nIn the next five years most driverless technology will remain behind the scenes. TRL is investigating the potential for driverless HGVs on motorways, including the idea of platooning vehicles. Platoons are a group of semi-autonomous vehicles that drive a close distance between each other, stopping other vehicles from separating them. By driving closer together, vehicles in a platoon can be more fuel efficient by taking advantage of the slipstream of the truck in front while also helping to reduce congestion as the lorries take up less overall space on the road. Also in this space is Plus, the first self-driving truck manufacturer, whose European pilots commenced this year after a successful trial on Wufengshan highway in China\\'s Yangtze Delta economic centre.\\n\\nYou might also like:\\n\\n    The internet behemoth you\\'ve never heard of\\n    The technology to end traffic jams\\n    How Google\\'s balloons surprised their creators\\n\\nAway from these industries, Ozay further predicts that \"we will possibly see lighter robotic vehicles that can potentially use sidewalks and bike paths with limited speeds â€“ for delivering things such as food and groceries.\"\\n\\nWhen it comes to public transport, Oxbotica is also working with German-based vehicle systems specialist ZF over the next five years to make the driverless shuttle a true mainstay for European cities, operating on roads, as well as at airports, much in the same way buses do now. \"The shuttles in airports we see today on rails won\\'t need those rails in five years from now. This means driverless shuttles have the potential to transport you from the car park to the airport, then straight through to your gate and the plane,\" Jinks explains.\\n\\n    My hope is that cars will be smart enough to say \\'yes\\' or \\'no\\' when asked if they can reliably and safely get a non-driver from point A to point B on a given day â€“ Necmiye Ozay\\n\\nFor users, this could mean more reliable and cost-efficient transport systems. \"Interlinking autonomous transport systems to bring a public transport system that is as efficient as you jumping in your own car and driving it yourself has got to be the answer to congestion in the future,\" adds Jinks.\\n\\nSeven years from now\\n\\nAll experts agree that the next seven years will depend on the successes and failures of initial deployments, and how safety and public trust evolves accordingly. However, most hope that city redesigns will enable more adoption of the technology and help move us into modern, and more efficient ways of living. \"If you live in a dense, urban area, the hope is that you\\'d be able to rely on mobility as a service. You could dial up the car, it would arrive in two minutes, and you make your journey. You wouldn\\'t need to have those vast rows of parked cars in your street, which makes the street more navigable for the automated vehicle,\" says Hynd.\\n\\nWithout parked cars lining the street, roads could be narrower, making way for more green spaces. But while proponents of self-driving vehicles insist they will make our roads safer, there are some who feel pedestrians and autonomous vehicles simply can\\'t mix. It could mean that our cities and the way we use them may need to be reimagined.\\n\\nSome of this thinking is already taking place. In 2018, IKEA developed a concept autonomous vehicle that can double up as meeting rooms, hotels, and stores. The impact this type of innovation would have is reduced requirement for travel in the first place, offering instead interchangeable, on-demand environments as and when we need them. Our needs could be met right where we are.\\n\\nOzay expects many more self-driving options to be available for customers during this time, including in the passenger vehicle space. \"My hope is that cars will be smart enough to say \\'yes\\' or \\'no\\' when asked if they can reliably and safely get a non-driver from point A to point B on a given day, by analysing the weather and traffic conditions beforehand,\" she explains.\\n\\n10 years from now\\n\\nDespite all the developments and innovations the next decade is likely to hold, some experts still feel we might be a way off from full deployment of driverless vehicles. By 2031, \"full-self driving â€“ human-level or above, in all possible conditions, where you can put kids by themselves in the car to send them to arbitrary locations without worrying â€“ is not something I expect to see,\" says Ozay.\\nOnce commuters can let their cars take over the driving completely, will it free them up for new kinds of productivity and activities? (Credit: Thomas Lohnes/AFP/Getty Images)\\n\\nOnce commuters can let their cars take over the driving completely, will it free them up for new kinds of productivity and activities? (Credit: Thomas Lohnes/AFP/Getty Images)\\n\\nHynd agrees that full automation is unlikely on this timescale. \"With anything transport infrastructure, anything that society uses, so many other things need to come into play. And I don\\'t just mean regulation,\" he says. Safety will be a major hurdle, especially for countries slower to adopt the change because of the huge costs involved. Infrastructure will also dictate how fast and effectively this technology can roll out, and public perception and willingness to use autonomous vehicles will need to increase according to Hynd.\\n\\nBut not everyone agrees. Jinks is confident that we\\'ll see autonomous vehicles on the roads at the same time as human-driven vehicles in 10 years from now. In this vein, you may very well be stepping onto a driverless shuttle at the airport, then into a self-driving taxi to take you to your final destination.\\n\\nOwning a driverless car in the next 10 years is less likely â€“ it\\'ll still be too expensive for most people, according to Hynd. But the promise of driverless technology is about unchaining us from our reliance on cars, and how that can transform the use of our time and our environment.\\n\\n\"This is one of the biggest engineering problems that we\\'re trying to solve in a century,\" Jinks says. \"It will be an evolution over time from less complex environments and capabilities, to more complex, to everywhere. It\\'s a continuum, and think about that continuum... It will keep improving over time. These things will continuously learn from each other.\"\\n\\nMuch in the same way that electric charging stations have slowly entered car parks, side streets, and service stations, so too will autonomous vehicles eventually make their way into our everyday worlds. Years from now, we may well be wondering how we ever lived without them.'"
      ]
     },
     "execution_count": 4,
     "metadata": {},
     "output_type": "execute_result"
    }
   ],
   "source": [
    "#Original Content\n",
    "df_text.iloc[0,2]"
   ]
  },
  {
   "cell_type": "code",
   "execution_count": 5,
   "metadata": {},
   "outputs": [],
   "source": [
    "#Step 30\n",
    "#1.1 Special Character Cleaning\n",
    "df_text['Changed_Content'] = df_text['Changed_Content'].str.replace(\"\\r\",\" \")\n",
    "df_text['Changed_Content'] = df_text['Changed_Content'].str.replace(\"\\n\",\" \")\n",
    "df_text['Changed_Content'] = df_text['Changed_Content'].str.replace(\"    \", \" \")"
   ]
  },
  {
   "cell_type": "markdown",
   "metadata": {},
   "source": [
    "The first step of the text cleaning is to remove certain characters that are not necessary for classification. These characters include spaces such as \\r and \\n."
   ]
  },
  {
   "cell_type": "code",
   "execution_count": 6,
   "metadata": {},
   "outputs": [
    {
     "data": {
      "text/plain": [
       "'Self-driving vehicles are steadily becoming a reality despite the many hurdles still to be overcome â€“ and they could change our world in some unexpected ways. I  It\\'s a late night in the Metro area of Phoenix, Arizona. Under the artificial glare of street lamps, a car can be seen slowly approaching. Active sensors on the vehicle radiate a low hum. A green and blue \\'W\\' glows from the windscreen, giving off just enough light to see inside â€“ to a completely empty driver seat.  The wheel navigates the curb steadily, parking as an arrival notification pings on the phone of the person waiting for it. When they open the door to climb inside, a voice greets them over the vehicle\\'s sound system. \"Good evening, this car is all yours â€“ with no one upfront,\" it says.  This is a Waymo One robotaxi, hailed just 10 minutes ago using an app. The open use of this service to the public, slowly expanding across the US, is one of the many developments signalling that driverless technology is truly becoming a part of our lives.  The promise of driverless technology has long been enticing. It has the potential to transform our experience of commuting and long journeys, take people out of high-risk working environments and streamline our industries. It\\'s key to helping us build the cities of the future, where our reliance and relationship with cars are redefined â€“ lowering carbon emissions and paving the way for more sustainable ways of living. And it could make our travel safer. The World Health Organization estimates that more than 1.3 million people die each year as a result of road traffic crashes. \"We want safer roads and less fatalities. Automation ultimately could provide that,\" says Camilla Fowler, head of automated transport for the UK\\'s Transport Research Laboratory (TRL).  But in order for driverless technology to become mainstream, much still needs to change.   \"Driverless vehicles should be a very calm and serene way of getting from A to B. But not every human driver around it will be behaving in that way,\" says David Hynd, chief scientist for safety and investigations at TRL. \"It\\'s got to be able to cope with human drivers speeding, for instance, or breaking the rules of the road.\"  And that\\'s not the only challenge. There\\'s regulation, rethinking the highway code, public perception, improving the infrastructure of our streets, towns, cities, and the big question of ultimate liability for road accidents. \"The whole insurance industry is looking into how they\\'re going to deal with that change from a person being responsible and in charge to the vehicle doing that,\" says Richard Jinks, vice president of commercial at Oxfordshire-based driverless vehicle software company Oxbotica, which has been testing its technology in cars and delivery vehicles at several locations across the UK and Europe.   The ultimate vision experts are working towards is of completely driverless vehicles, both within industry, wider transport networks, and personal-use cars, that can be deployed and used anywhere and everywhere around the world. Mcity puts driverless cars through their paces in an environment that mimics a real city, complete with crossing pedestrians (Credit: Jeff Kowalsky/AFP/Getty Images)  Mcity puts driverless cars through their paces in an environment that mimics a real city, complete with crossing pedestrians (Credit: Jeff Kowalsky/AFP/Getty Images)  But with all these hurdles in place, what exactly does the next 10 years have in store for autonomous vehicles?  Two years from now  The biggest hurdle for those in the driverless technology industry is how to get the cars to operate safely and effectively in complex and unpredictable human environments. Cracking this part of the puzzle will be the major focus of the next two years.  At the Mcity Test Facility at the University of Michigan, experts are addressing this. The world\\'s first purpose-built testing ground for autonomous vehicles, it\\'s a mini-town of sorts, made up of 16 acres of road and traffic infrastructure. It includes traffic signals and signs, underpasses, building facades, tree cover, home and garage exterior for testing delivery and ride-hailing, and different terrains such as road, pedestrian walkways, railway tracks, and road-markings which the vehicles must navigate. It\\'s here that experts test scenarios that even the most experienced of drivers may be pressed to handle, from children playing in the street to two cars trying to merge on a junction at the same time. Change Agents  We know the world has to change for humanity to thrive. But what are the most promising solutions that could provide the kind of transformation we need? In a world adjusting to the recent global pandemic, Change Agents examines innovations and technologies that could make our planet a better, healthier place to live.  \"In order to test driverless technology like this, it depends on hundreds of different variables in any given situation,\" explains Necmiye Ozay, associate professor of electrical and computer engineering at the University of Michigan. Her solution is to create a group of varied thinkers.  \"We\\'re trying to bring people from different parts of the university â€“ not only engineers, but we have people from across disciplines such as psychology, more human-machine-interaction type people, because there are lots of angles to this problem we are trying to solve when it comes to safety,\" says Ozay. In the facility, Ozay and her team can test different traffic scenarios, as well as explore how autonomous vehicles communicate with each other yet keep vehicle and personal data secure from hackers.  That self-driving taxis are already on the roads in Phoenix, Arizona, is due to a prolonged testing process like the one Ozay\\'s team is conducting. Currently only available as a test service to the public in small defined areas, in the next two years there are plans to release the taxis on a greater and wider scale. For example, US-based company Waymo is currently rolling out to new city test sites that could very realistically see robotaxis operational in San Francisco and New York by 2023. But their co-chief executive Tekedra Mawakana was cautious to say what further roll out of its service there might be, and where, because \"safety takes time\".  AutoX, a start-up funded by Alibaba, launched its fully driverless RoboTaxi in Shanghai, China in 2020. By 2023 it\\'s likely their service will be available in other cities across China, as well as in California.  Much of the driverless technology already in use exists in industrial settings like mines, warehouses, and ports, but Hynd believes in the next two years we can expect to see this extended to \"last mile delivery\". This means the final part of a journey for goods and services â€“ the point at which they are delivered to the consumer. For example, autonomous HGV trucks on motorways or even delivery vehicles for products and groceries.  Five years from now  While Apple says it is aiming to launch fully self-driving electric cars four years from now, industry experts are more cautious about what the near-future holds.  According to Fowler, the conversation around regulation and insurance companies\\' new role within this transport space needs to mature. \"It\\'s got to be a very iterative approach where we\\'re starting with pods and shuttles, or we\\'re starting with off-highway vehicles where you can see such a benefit, and you\\'ve got a more controlled environment potentially, and what works with that,\" she says. \"Then we can scale it up and across more vehicle types, more use cases.\" Autonomous shuttles, such as these in Iserlohn, Germany, could help to link passengers on public transport to other parts of a city (Credit: Alamy)  Autonomous shuttles, such as these in Iserlohn, Germany, could help to link passengers on public transport to other parts of a city (Credit: Alamy)  One new space we can expect to see driverless technology deployed in is high-risk environments, from nuclear plants to military settings, to limit the dangers to human life, says Fowler. A Rio Tinto mine in Western Australia, for example, is currently operating the largest autonomous fleet in the world. The trucks are controlled by a centralised system miles away in Perth.  \"If you can take people out of that and you can have vehicles that are driving themselves, and are fully automated even, if you\\'ve got somebody who\\'s remotely needing to control that vehicle in that high-risk environment then that\\'s got to be good,\" says Fowler.  In the next five years most driverless technology will remain behind the scenes. TRL is investigating the potential for driverless HGVs on motorways, including the idea of platooning vehicles. Platoons are a group of semi-autonomous vehicles that drive a close distance between each other, stopping other vehicles from separating them. By driving closer together, vehicles in a platoon can be more fuel efficient by taking advantage of the slipstream of the truck in front while also helping to reduce congestion as the lorries take up less overall space on the road. Also in this space is Plus, the first self-driving truck manufacturer, whose European pilots commenced this year after a successful trial on Wufengshan highway in China\\'s Yangtze Delta economic centre.  You might also like:   The internet behemoth you\\'ve never heard of  The technology to end traffic jams  How Google\\'s balloons surprised their creators  Away from these industries, Ozay further predicts that \"we will possibly see lighter robotic vehicles that can potentially use sidewalks and bike paths with limited speeds â€“ for delivering things such as food and groceries.\"  When it comes to public transport, Oxbotica is also working with German-based vehicle systems specialist ZF over the next five years to make the driverless shuttle a true mainstay for European cities, operating on roads, as well as at airports, much in the same way buses do now. \"The shuttles in airports we see today on rails won\\'t need those rails in five years from now. This means driverless shuttles have the potential to transport you from the car park to the airport, then straight through to your gate and the plane,\" Jinks explains.   My hope is that cars will be smart enough to say \\'yes\\' or \\'no\\' when asked if they can reliably and safely get a non-driver from point A to point B on a given day â€“ Necmiye Ozay  For users, this could mean more reliable and cost-efficient transport systems. \"Interlinking autonomous transport systems to bring a public transport system that is as efficient as you jumping in your own car and driving it yourself has got to be the answer to congestion in the future,\" adds Jinks.  Seven years from now  All experts agree that the next seven years will depend on the successes and failures of initial deployments, and how safety and public trust evolves accordingly. However, most hope that city redesigns will enable more adoption of the technology and help move us into modern, and more efficient ways of living. \"If you live in a dense, urban area, the hope is that you\\'d be able to rely on mobility as a service. You could dial up the car, it would arrive in two minutes, and you make your journey. You wouldn\\'t need to have those vast rows of parked cars in your street, which makes the street more navigable for the automated vehicle,\" says Hynd.  Without parked cars lining the street, roads could be narrower, making way for more green spaces. But while proponents of self-driving vehicles insist they will make our roads safer, there are some who feel pedestrians and autonomous vehicles simply can\\'t mix. It could mean that our cities and the way we use them may need to be reimagined.  Some of this thinking is already taking place. In 2018, IKEA developed a concept autonomous vehicle that can double up as meeting rooms, hotels, and stores. The impact this type of innovation would have is reduced requirement for travel in the first place, offering instead interchangeable, on-demand environments as and when we need them. Our needs could be met right where we are.  Ozay expects many more self-driving options to be available for customers during this time, including in the passenger vehicle space. \"My hope is that cars will be smart enough to say \\'yes\\' or \\'no\\' when asked if they can reliably and safely get a non-driver from point A to point B on a given day, by analysing the weather and traffic conditions beforehand,\" she explains.  10 years from now  Despite all the developments and innovations the next decade is likely to hold, some experts still feel we might be a way off from full deployment of driverless vehicles. By 2031, \"full-self driving â€“ human-level or above, in all possible conditions, where you can put kids by themselves in the car to send them to arbitrary locations without worrying â€“ is not something I expect to see,\" says Ozay. Once commuters can let their cars take over the driving completely, will it free them up for new kinds of productivity and activities? (Credit: Thomas Lohnes/AFP/Getty Images)  Once commuters can let their cars take over the driving completely, will it free them up for new kinds of productivity and activities? (Credit: Thomas Lohnes/AFP/Getty Images)  Hynd agrees that full automation is unlikely on this timescale. \"With anything transport infrastructure, anything that society uses, so many other things need to come into play. And I don\\'t just mean regulation,\" he says. Safety will be a major hurdle, especially for countries slower to adopt the change because of the huge costs involved. Infrastructure will also dictate how fast and effectively this technology can roll out, and public perception and willingness to use autonomous vehicles will need to increase according to Hynd.  But not everyone agrees. Jinks is confident that we\\'ll see autonomous vehicles on the roads at the same time as human-driven vehicles in 10 years from now. In this vein, you may very well be stepping onto a driverless shuttle at the airport, then into a self-driving taxi to take you to your final destination.  Owning a driverless car in the next 10 years is less likely â€“ it\\'ll still be too expensive for most people, according to Hynd. But the promise of driverless technology is about unchaining us from our reliance on cars, and how that can transform the use of our time and our environment.  \"This is one of the biggest engineering problems that we\\'re trying to solve in a century,\" Jinks says. \"It will be an evolution over time from less complex environments and capabilities, to more complex, to everywhere. It\\'s a continuum, and think about that continuum... It will keep improving over time. These things will continuously learn from each other.\"  Much in the same way that electric charging stations have slowly entered car parks, side streets, and service stations, so too will autonomous vehicles eventually make their way into our everyday worlds. Years from now, we may well be wondering how we ever lived without them.'"
      ]
     },
     "execution_count": 6,
     "metadata": {},
     "output_type": "execute_result"
    }
   ],
   "source": [
    "df_text.iloc[0,2] #After step"
   ]
  },
  {
   "cell_type": "code",
   "execution_count": 7,
   "metadata": {},
   "outputs": [],
   "source": [
    "#1.2 Uppercase and Lowercase\n",
    "df_text['Changed_Content'] = df_text['Changed_Content'].str.lower()"
   ]
  },
  {
   "cell_type": "markdown",
   "metadata": {},
   "source": [
    "After the spaces have been removed, then the next step is to convert any characters to their lowercase form. This could be seen in the first sentence as the \"Self-driving vehicles...\" is transformed into \"self-driving vehicles...\". This is done through the str.lower() operation "
   ]
  },
  {
   "cell_type": "code",
   "execution_count": 8,
   "metadata": {},
   "outputs": [
    {
     "data": {
      "text/plain": [
       "'self-driving vehicles are steadily becoming a reality despite the many hurdles still to be overcome â€“ and they could change our world in some unexpected ways. i  it\\'s a late night in the metro area of phoenix, arizona. under the artificial glare of street lamps, a car can be seen slowly approaching. active sensors on the vehicle radiate a low hum. a green and blue \\'w\\' glows from the windscreen, giving off just enough light to see inside â€“ to a completely empty driver seat.  the wheel navigates the curb steadily, parking as an arrival notification pings on the phone of the person waiting for it. when they open the door to climb inside, a voice greets them over the vehicle\\'s sound system. \"good evening, this car is all yours â€“ with no one upfront,\" it says.  this is a waymo one robotaxi, hailed just 10 minutes ago using an app. the open use of this service to the public, slowly expanding across the us, is one of the many developments signalling that driverless technology is truly becoming a part of our lives.  the promise of driverless technology has long been enticing. it has the potential to transform our experience of commuting and long journeys, take people out of high-risk working environments and streamline our industries. it\\'s key to helping us build the cities of the future, where our reliance and relationship with cars are redefined â€“ lowering carbon emissions and paving the way for more sustainable ways of living. and it could make our travel safer. the world health organization estimates that more than 1.3 million people die each year as a result of road traffic crashes. \"we want safer roads and less fatalities. automation ultimately could provide that,\" says camilla fowler, head of automated transport for the uk\\'s transport research laboratory (trl).  but in order for driverless technology to become mainstream, much still needs to change.   \"driverless vehicles should be a very calm and serene way of getting from a to b. but not every human driver around it will be behaving in that way,\" says david hynd, chief scientist for safety and investigations at trl. \"it\\'s got to be able to cope with human drivers speeding, for instance, or breaking the rules of the road.\"  and that\\'s not the only challenge. there\\'s regulation, rethinking the highway code, public perception, improving the infrastructure of our streets, towns, cities, and the big question of ultimate liability for road accidents. \"the whole insurance industry is looking into how they\\'re going to deal with that change from a person being responsible and in charge to the vehicle doing that,\" says richard jinks, vice president of commercial at oxfordshire-based driverless vehicle software company oxbotica, which has been testing its technology in cars and delivery vehicles at several locations across the uk and europe.   the ultimate vision experts are working towards is of completely driverless vehicles, both within industry, wider transport networks, and personal-use cars, that can be deployed and used anywhere and everywhere around the world. mcity puts driverless cars through their paces in an environment that mimics a real city, complete with crossing pedestrians (credit: jeff kowalsky/afp/getty images)  mcity puts driverless cars through their paces in an environment that mimics a real city, complete with crossing pedestrians (credit: jeff kowalsky/afp/getty images)  but with all these hurdles in place, what exactly does the next 10 years have in store for autonomous vehicles?  two years from now  the biggest hurdle for those in the driverless technology industry is how to get the cars to operate safely and effectively in complex and unpredictable human environments. cracking this part of the puzzle will be the major focus of the next two years.  at the mcity test facility at the university of michigan, experts are addressing this. the world\\'s first purpose-built testing ground for autonomous vehicles, it\\'s a mini-town of sorts, made up of 16 acres of road and traffic infrastructure. it includes traffic signals and signs, underpasses, building facades, tree cover, home and garage exterior for testing delivery and ride-hailing, and different terrains such as road, pedestrian walkways, railway tracks, and road-markings which the vehicles must navigate. it\\'s here that experts test scenarios that even the most experienced of drivers may be pressed to handle, from children playing in the street to two cars trying to merge on a junction at the same time. change agents  we know the world has to change for humanity to thrive. but what are the most promising solutions that could provide the kind of transformation we need? in a world adjusting to the recent global pandemic, change agents examines innovations and technologies that could make our planet a better, healthier place to live.  \"in order to test driverless technology like this, it depends on hundreds of different variables in any given situation,\" explains necmiye ozay, associate professor of electrical and computer engineering at the university of michigan. her solution is to create a group of varied thinkers.  \"we\\'re trying to bring people from different parts of the university â€“ not only engineers, but we have people from across disciplines such as psychology, more human-machine-interaction type people, because there are lots of angles to this problem we are trying to solve when it comes to safety,\" says ozay. in the facility, ozay and her team can test different traffic scenarios, as well as explore how autonomous vehicles communicate with each other yet keep vehicle and personal data secure from hackers.  that self-driving taxis are already on the roads in phoenix, arizona, is due to a prolonged testing process like the one ozay\\'s team is conducting. currently only available as a test service to the public in small defined areas, in the next two years there are plans to release the taxis on a greater and wider scale. for example, us-based company waymo is currently rolling out to new city test sites that could very realistically see robotaxis operational in san francisco and new york by 2023. but their co-chief executive tekedra mawakana was cautious to say what further roll out of its service there might be, and where, because \"safety takes time\".  autox, a start-up funded by alibaba, launched its fully driverless robotaxi in shanghai, china in 2020. by 2023 it\\'s likely their service will be available in other cities across china, as well as in california.  much of the driverless technology already in use exists in industrial settings like mines, warehouses, and ports, but hynd believes in the next two years we can expect to see this extended to \"last mile delivery\". this means the final part of a journey for goods and services â€“ the point at which they are delivered to the consumer. for example, autonomous hgv trucks on motorways or even delivery vehicles for products and groceries.  five years from now  while apple says it is aiming to launch fully self-driving electric cars four years from now, industry experts are more cautious about what the near-future holds.  according to fowler, the conversation around regulation and insurance companies\\' new role within this transport space needs to mature. \"it\\'s got to be a very iterative approach where we\\'re starting with pods and shuttles, or we\\'re starting with off-highway vehicles where you can see such a benefit, and you\\'ve got a more controlled environment potentially, and what works with that,\" she says. \"then we can scale it up and across more vehicle types, more use cases.\" autonomous shuttles, such as these in iserlohn, germany, could help to link passengers on public transport to other parts of a city (credit: alamy)  autonomous shuttles, such as these in iserlohn, germany, could help to link passengers on public transport to other parts of a city (credit: alamy)  one new space we can expect to see driverless technology deployed in is high-risk environments, from nuclear plants to military settings, to limit the dangers to human life, says fowler. a rio tinto mine in western australia, for example, is currently operating the largest autonomous fleet in the world. the trucks are controlled by a centralised system miles away in perth.  \"if you can take people out of that and you can have vehicles that are driving themselves, and are fully automated even, if you\\'ve got somebody who\\'s remotely needing to control that vehicle in that high-risk environment then that\\'s got to be good,\" says fowler.  in the next five years most driverless technology will remain behind the scenes. trl is investigating the potential for driverless hgvs on motorways, including the idea of platooning vehicles. platoons are a group of semi-autonomous vehicles that drive a close distance between each other, stopping other vehicles from separating them. by driving closer together, vehicles in a platoon can be more fuel efficient by taking advantage of the slipstream of the truck in front while also helping to reduce congestion as the lorries take up less overall space on the road. also in this space is plus, the first self-driving truck manufacturer, whose european pilots commenced this year after a successful trial on wufengshan highway in china\\'s yangtze delta economic centre.  you might also like:   the internet behemoth you\\'ve never heard of  the technology to end traffic jams  how google\\'s balloons surprised their creators  away from these industries, ozay further predicts that \"we will possibly see lighter robotic vehicles that can potentially use sidewalks and bike paths with limited speeds â€“ for delivering things such as food and groceries.\"  when it comes to public transport, oxbotica is also working with german-based vehicle systems specialist zf over the next five years to make the driverless shuttle a true mainstay for european cities, operating on roads, as well as at airports, much in the same way buses do now. \"the shuttles in airports we see today on rails won\\'t need those rails in five years from now. this means driverless shuttles have the potential to transport you from the car park to the airport, then straight through to your gate and the plane,\" jinks explains.   my hope is that cars will be smart enough to say \\'yes\\' or \\'no\\' when asked if they can reliably and safely get a non-driver from point a to point b on a given day â€“ necmiye ozay  for users, this could mean more reliable and cost-efficient transport systems. \"interlinking autonomous transport systems to bring a public transport system that is as efficient as you jumping in your own car and driving it yourself has got to be the answer to congestion in the future,\" adds jinks.  seven years from now  all experts agree that the next seven years will depend on the successes and failures of initial deployments, and how safety and public trust evolves accordingly. however, most hope that city redesigns will enable more adoption of the technology and help move us into modern, and more efficient ways of living. \"if you live in a dense, urban area, the hope is that you\\'d be able to rely on mobility as a service. you could dial up the car, it would arrive in two minutes, and you make your journey. you wouldn\\'t need to have those vast rows of parked cars in your street, which makes the street more navigable for the automated vehicle,\" says hynd.  without parked cars lining the street, roads could be narrower, making way for more green spaces. but while proponents of self-driving vehicles insist they will make our roads safer, there are some who feel pedestrians and autonomous vehicles simply can\\'t mix. it could mean that our cities and the way we use them may need to be reimagined.  some of this thinking is already taking place. in 2018, ikea developed a concept autonomous vehicle that can double up as meeting rooms, hotels, and stores. the impact this type of innovation would have is reduced requirement for travel in the first place, offering instead interchangeable, on-demand environments as and when we need them. our needs could be met right where we are.  ozay expects many more self-driving options to be available for customers during this time, including in the passenger vehicle space. \"my hope is that cars will be smart enough to say \\'yes\\' or \\'no\\' when asked if they can reliably and safely get a non-driver from point a to point b on a given day, by analysing the weather and traffic conditions beforehand,\" she explains.  10 years from now  despite all the developments and innovations the next decade is likely to hold, some experts still feel we might be a way off from full deployment of driverless vehicles. by 2031, \"full-self driving â€“ human-level or above, in all possible conditions, where you can put kids by themselves in the car to send them to arbitrary locations without worrying â€“ is not something i expect to see,\" says ozay. once commuters can let their cars take over the driving completely, will it free them up for new kinds of productivity and activities? (credit: thomas lohnes/afp/getty images)  once commuters can let their cars take over the driving completely, will it free them up for new kinds of productivity and activities? (credit: thomas lohnes/afp/getty images)  hynd agrees that full automation is unlikely on this timescale. \"with anything transport infrastructure, anything that society uses, so many other things need to come into play. and i don\\'t just mean regulation,\" he says. safety will be a major hurdle, especially for countries slower to adopt the change because of the huge costs involved. infrastructure will also dictate how fast and effectively this technology can roll out, and public perception and willingness to use autonomous vehicles will need to increase according to hynd.  but not everyone agrees. jinks is confident that we\\'ll see autonomous vehicles on the roads at the same time as human-driven vehicles in 10 years from now. in this vein, you may very well be stepping onto a driverless shuttle at the airport, then into a self-driving taxi to take you to your final destination.  owning a driverless car in the next 10 years is less likely â€“ it\\'ll still be too expensive for most people, according to hynd. but the promise of driverless technology is about unchaining us from our reliance on cars, and how that can transform the use of our time and our environment.  \"this is one of the biggest engineering problems that we\\'re trying to solve in a century,\" jinks says. \"it will be an evolution over time from less complex environments and capabilities, to more complex, to everywhere. it\\'s a continuum, and think about that continuum... it will keep improving over time. these things will continuously learn from each other.\"  much in the same way that electric charging stations have slowly entered car parks, side streets, and service stations, so too will autonomous vehicles eventually make their way into our everyday worlds. years from now, we may well be wondering how we ever lived without them.'"
      ]
     },
     "execution_count": 8,
     "metadata": {},
     "output_type": "execute_result"
    }
   ],
   "source": [
    "df_text.iloc[0,2]"
   ]
  },
  {
   "cell_type": "code",
   "execution_count": 9,
   "metadata": {},
   "outputs": [
    {
     "name": "stderr",
     "output_type": "stream",
     "text": [
      "C:\\Users\\black\\AppData\\Local\\Temp\\ipykernel_7904\\1577772287.py:5: FutureWarning: The default value of regex will change from True to False in a future version. In addition, single character regular expressions will *not* be treated as literal strings when regex=True.\n",
      "  df_text['Changed_Content'] = df_text['Changed_Content'].str.replace(p, '')\n"
     ]
    }
   ],
   "source": [
    "#1.3 Punctuation signs\n",
    "punctuation_signs=list(\"?!:.,:-\")\n",
    "\n",
    "for p in punctuation_signs:\n",
    "    df_text['Changed_Content'] = df_text['Changed_Content'].str.replace(p, '')\n"
   ]
  },
  {
   "cell_type": "markdown",
   "metadata": {},
   "source": [
    "The next step is to then remove any punctuation signs which occurs in the str.replace operation. This is done as ! marks and other punctuation marks do not contain any information that is necessary for classification. This could be seen in the sentence \"a part of our lives.\" into \"a part of our lives the...\". "
   ]
  },
  {
   "cell_type": "code",
   "execution_count": 10,
   "metadata": {},
   "outputs": [
    {
     "data": {
      "text/plain": [
       "'selfdriving vehicles are steadily becoming a reality despite the many hurdles still to be overcome â€“ and they could change our world in some unexpected ways i  it\\'s a late night in the metro area of phoenix arizona under the artificial glare of street lamps a car can be seen slowly approaching active sensors on the vehicle radiate a low hum a green and blue \\'w\\' glows from the windscreen giving off just enough light to see inside â€“ to a completely empty driver seat  the wheel navigates the curb steadily parking as an arrival notification pings on the phone of the person waiting for it when they open the door to climb inside a voice greets them over the vehicle\\'s sound system \"good evening this car is all yours â€“ with no one upfront\" it says  this is a waymo one robotaxi hailed just 10 minutes ago using an app the open use of this service to the public slowly expanding across the us is one of the many developments signalling that driverless technology is truly becoming a part of our lives  the promise of driverless technology has long been enticing it has the potential to transform our experience of commuting and long journeys take people out of highrisk working environments and streamline our industries it\\'s key to helping us build the cities of the future where our reliance and relationship with cars are redefined â€“ lowering carbon emissions and paving the way for more sustainable ways of living and it could make our travel safer the world health organization estimates that more than 13 million people die each year as a result of road traffic crashes \"we want safer roads and less fatalities automation ultimately could provide that\" says camilla fowler head of automated transport for the uk\\'s transport research laboratory (trl)  but in order for driverless technology to become mainstream much still needs to change   \"driverless vehicles should be a very calm and serene way of getting from a to b but not every human driver around it will be behaving in that way\" says david hynd chief scientist for safety and investigations at trl \"it\\'s got to be able to cope with human drivers speeding for instance or breaking the rules of the road\"  and that\\'s not the only challenge there\\'s regulation rethinking the highway code public perception improving the infrastructure of our streets towns cities and the big question of ultimate liability for road accidents \"the whole insurance industry is looking into how they\\'re going to deal with that change from a person being responsible and in charge to the vehicle doing that\" says richard jinks vice president of commercial at oxfordshirebased driverless vehicle software company oxbotica which has been testing its technology in cars and delivery vehicles at several locations across the uk and europe   the ultimate vision experts are working towards is of completely driverless vehicles both within industry wider transport networks and personaluse cars that can be deployed and used anywhere and everywhere around the world mcity puts driverless cars through their paces in an environment that mimics a real city complete with crossing pedestrians (credit jeff kowalsky/afp/getty images)  mcity puts driverless cars through their paces in an environment that mimics a real city complete with crossing pedestrians (credit jeff kowalsky/afp/getty images)  but with all these hurdles in place what exactly does the next 10 years have in store for autonomous vehicles  two years from now  the biggest hurdle for those in the driverless technology industry is how to get the cars to operate safely and effectively in complex and unpredictable human environments cracking this part of the puzzle will be the major focus of the next two years  at the mcity test facility at the university of michigan experts are addressing this the world\\'s first purposebuilt testing ground for autonomous vehicles it\\'s a minitown of sorts made up of 16 acres of road and traffic infrastructure it includes traffic signals and signs underpasses building facades tree cover home and garage exterior for testing delivery and ridehailing and different terrains such as road pedestrian walkways railway tracks and roadmarkings which the vehicles must navigate it\\'s here that experts test scenarios that even the most experienced of drivers may be pressed to handle from children playing in the street to two cars trying to merge on a junction at the same time change agents  we know the world has to change for humanity to thrive but what are the most promising solutions that could provide the kind of transformation we need in a world adjusting to the recent global pandemic change agents examines innovations and technologies that could make our planet a better healthier place to live  \"in order to test driverless technology like this it depends on hundreds of different variables in any given situation\" explains necmiye ozay associate professor of electrical and computer engineering at the university of michigan her solution is to create a group of varied thinkers  \"we\\'re trying to bring people from different parts of the university â€“ not only engineers but we have people from across disciplines such as psychology more humanmachineinteraction type people because there are lots of angles to this problem we are trying to solve when it comes to safety\" says ozay in the facility ozay and her team can test different traffic scenarios as well as explore how autonomous vehicles communicate with each other yet keep vehicle and personal data secure from hackers  that selfdriving taxis are already on the roads in phoenix arizona is due to a prolonged testing process like the one ozay\\'s team is conducting currently only available as a test service to the public in small defined areas in the next two years there are plans to release the taxis on a greater and wider scale for example usbased company waymo is currently rolling out to new city test sites that could very realistically see robotaxis operational in san francisco and new york by 2023 but their cochief executive tekedra mawakana was cautious to say what further roll out of its service there might be and where because \"safety takes time\"  autox a startup funded by alibaba launched its fully driverless robotaxi in shanghai china in 2020 by 2023 it\\'s likely their service will be available in other cities across china as well as in california  much of the driverless technology already in use exists in industrial settings like mines warehouses and ports but hynd believes in the next two years we can expect to see this extended to \"last mile delivery\" this means the final part of a journey for goods and services â€“ the point at which they are delivered to the consumer for example autonomous hgv trucks on motorways or even delivery vehicles for products and groceries  five years from now  while apple says it is aiming to launch fully selfdriving electric cars four years from now industry experts are more cautious about what the nearfuture holds  according to fowler the conversation around regulation and insurance companies\\' new role within this transport space needs to mature \"it\\'s got to be a very iterative approach where we\\'re starting with pods and shuttles or we\\'re starting with offhighway vehicles where you can see such a benefit and you\\'ve got a more controlled environment potentially and what works with that\" she says \"then we can scale it up and across more vehicle types more use cases\" autonomous shuttles such as these in iserlohn germany could help to link passengers on public transport to other parts of a city (credit alamy)  autonomous shuttles such as these in iserlohn germany could help to link passengers on public transport to other parts of a city (credit alamy)  one new space we can expect to see driverless technology deployed in is highrisk environments from nuclear plants to military settings to limit the dangers to human life says fowler a rio tinto mine in western australia for example is currently operating the largest autonomous fleet in the world the trucks are controlled by a centralised system miles away in perth  \"if you can take people out of that and you can have vehicles that are driving themselves and are fully automated even if you\\'ve got somebody who\\'s remotely needing to control that vehicle in that highrisk environment then that\\'s got to be good\" says fowler  in the next five years most driverless technology will remain behind the scenes trl is investigating the potential for driverless hgvs on motorways including the idea of platooning vehicles platoons are a group of semiautonomous vehicles that drive a close distance between each other stopping other vehicles from separating them by driving closer together vehicles in a platoon can be more fuel efficient by taking advantage of the slipstream of the truck in front while also helping to reduce congestion as the lorries take up less overall space on the road also in this space is plus the first selfdriving truck manufacturer whose european pilots commenced this year after a successful trial on wufengshan highway in china\\'s yangtze delta economic centre  you might also like   the internet behemoth you\\'ve never heard of  the technology to end traffic jams  how google\\'s balloons surprised their creators  away from these industries ozay further predicts that \"we will possibly see lighter robotic vehicles that can potentially use sidewalks and bike paths with limited speeds â€“ for delivering things such as food and groceries\"  when it comes to public transport oxbotica is also working with germanbased vehicle systems specialist zf over the next five years to make the driverless shuttle a true mainstay for european cities operating on roads as well as at airports much in the same way buses do now \"the shuttles in airports we see today on rails won\\'t need those rails in five years from now this means driverless shuttles have the potential to transport you from the car park to the airport then straight through to your gate and the plane\" jinks explains   my hope is that cars will be smart enough to say \\'yes\\' or \\'no\\' when asked if they can reliably and safely get a nondriver from point a to point b on a given day â€“ necmiye ozay  for users this could mean more reliable and costefficient transport systems \"interlinking autonomous transport systems to bring a public transport system that is as efficient as you jumping in your own car and driving it yourself has got to be the answer to congestion in the future\" adds jinks  seven years from now  all experts agree that the next seven years will depend on the successes and failures of initial deployments and how safety and public trust evolves accordingly however most hope that city redesigns will enable more adoption of the technology and help move us into modern and more efficient ways of living \"if you live in a dense urban area the hope is that you\\'d be able to rely on mobility as a service you could dial up the car it would arrive in two minutes and you make your journey you wouldn\\'t need to have those vast rows of parked cars in your street which makes the street more navigable for the automated vehicle\" says hynd  without parked cars lining the street roads could be narrower making way for more green spaces but while proponents of selfdriving vehicles insist they will make our roads safer there are some who feel pedestrians and autonomous vehicles simply can\\'t mix it could mean that our cities and the way we use them may need to be reimagined  some of this thinking is already taking place in 2018 ikea developed a concept autonomous vehicle that can double up as meeting rooms hotels and stores the impact this type of innovation would have is reduced requirement for travel in the first place offering instead interchangeable ondemand environments as and when we need them our needs could be met right where we are  ozay expects many more selfdriving options to be available for customers during this time including in the passenger vehicle space \"my hope is that cars will be smart enough to say \\'yes\\' or \\'no\\' when asked if they can reliably and safely get a nondriver from point a to point b on a given day by analysing the weather and traffic conditions beforehand\" she explains  10 years from now  despite all the developments and innovations the next decade is likely to hold some experts still feel we might be a way off from full deployment of driverless vehicles by 2031 \"fullself driving â€“ humanlevel or above in all possible conditions where you can put kids by themselves in the car to send them to arbitrary locations without worrying â€“ is not something i expect to see\" says ozay once commuters can let their cars take over the driving completely will it free them up for new kinds of productivity and activities (credit thomas lohnes/afp/getty images)  once commuters can let their cars take over the driving completely will it free them up for new kinds of productivity and activities (credit thomas lohnes/afp/getty images)  hynd agrees that full automation is unlikely on this timescale \"with anything transport infrastructure anything that society uses so many other things need to come into play and i don\\'t just mean regulation\" he says safety will be a major hurdle especially for countries slower to adopt the change because of the huge costs involved infrastructure will also dictate how fast and effectively this technology can roll out and public perception and willingness to use autonomous vehicles will need to increase according to hynd  but not everyone agrees jinks is confident that we\\'ll see autonomous vehicles on the roads at the same time as humandriven vehicles in 10 years from now in this vein you may very well be stepping onto a driverless shuttle at the airport then into a selfdriving taxi to take you to your final destination  owning a driverless car in the next 10 years is less likely â€“ it\\'ll still be too expensive for most people according to hynd but the promise of driverless technology is about unchaining us from our reliance on cars and how that can transform the use of our time and our environment  \"this is one of the biggest engineering problems that we\\'re trying to solve in a century\" jinks says \"it will be an evolution over time from less complex environments and capabilities to more complex to everywhere it\\'s a continuum and think about that continuum it will keep improving over time these things will continuously learn from each other\"  much in the same way that electric charging stations have slowly entered car parks side streets and service stations so too will autonomous vehicles eventually make their way into our everyday worlds years from now we may well be wondering how we ever lived without them'"
      ]
     },
     "execution_count": 10,
     "metadata": {},
     "output_type": "execute_result"
    }
   ],
   "source": [
    "df_text.iloc[0,2]"
   ]
  },
  {
   "cell_type": "code",
   "execution_count": 11,
   "metadata": {},
   "outputs": [],
   "source": [
    "#1.4 Possessive Pronouns\n",
    "df_text['Changed_Content'] = df_text['Changed_Content'].str.replace(\"'s\", \"\")"
   ]
  },
  {
   "cell_type": "markdown",
   "metadata": {},
   "source": [
    "The next section is important to remove the apostrophe s that comes from possessive words. In this case certain words such as \"i it\\'s a..\" is turned into \"i it a...\". This is done as the \" 's \" is not necessary information for classification."
   ]
  },
  {
   "cell_type": "code",
   "execution_count": 12,
   "metadata": {},
   "outputs": [
    {
     "data": {
      "text/plain": [
       "'selfdriving vehicles are steadily becoming a reality despite the many hurdles still to be overcome â€“ and they could change our world in some unexpected ways i  it a late night in the metro area of phoenix arizona under the artificial glare of street lamps a car can be seen slowly approaching active sensors on the vehicle radiate a low hum a green and blue \\'w\\' glows from the windscreen giving off just enough light to see inside â€“ to a completely empty driver seat  the wheel navigates the curb steadily parking as an arrival notification pings on the phone of the person waiting for it when they open the door to climb inside a voice greets them over the vehicle sound system \"good evening this car is all yours â€“ with no one upfront\" it says  this is a waymo one robotaxi hailed just 10 minutes ago using an app the open use of this service to the public slowly expanding across the us is one of the many developments signalling that driverless technology is truly becoming a part of our lives  the promise of driverless technology has long been enticing it has the potential to transform our experience of commuting and long journeys take people out of highrisk working environments and streamline our industries it key to helping us build the cities of the future where our reliance and relationship with cars are redefined â€“ lowering carbon emissions and paving the way for more sustainable ways of living and it could make our travel safer the world health organization estimates that more than 13 million people die each year as a result of road traffic crashes \"we want safer roads and less fatalities automation ultimately could provide that\" says camilla fowler head of automated transport for the uk transport research laboratory (trl)  but in order for driverless technology to become mainstream much still needs to change   \"driverless vehicles should be a very calm and serene way of getting from a to b but not every human driver around it will be behaving in that way\" says david hynd chief scientist for safety and investigations at trl \"it got to be able to cope with human drivers speeding for instance or breaking the rules of the road\"  and that not the only challenge there regulation rethinking the highway code public perception improving the infrastructure of our streets towns cities and the big question of ultimate liability for road accidents \"the whole insurance industry is looking into how they\\'re going to deal with that change from a person being responsible and in charge to the vehicle doing that\" says richard jinks vice president of commercial at oxfordshirebased driverless vehicle software company oxbotica which has been testing its technology in cars and delivery vehicles at several locations across the uk and europe   the ultimate vision experts are working towards is of completely driverless vehicles both within industry wider transport networks and personaluse cars that can be deployed and used anywhere and everywhere around the world mcity puts driverless cars through their paces in an environment that mimics a real city complete with crossing pedestrians (credit jeff kowalsky/afp/getty images)  mcity puts driverless cars through their paces in an environment that mimics a real city complete with crossing pedestrians (credit jeff kowalsky/afp/getty images)  but with all these hurdles in place what exactly does the next 10 years have in store for autonomous vehicles  two years from now  the biggest hurdle for those in the driverless technology industry is how to get the cars to operate safely and effectively in complex and unpredictable human environments cracking this part of the puzzle will be the major focus of the next two years  at the mcity test facility at the university of michigan experts are addressing this the world first purposebuilt testing ground for autonomous vehicles it a minitown of sorts made up of 16 acres of road and traffic infrastructure it includes traffic signals and signs underpasses building facades tree cover home and garage exterior for testing delivery and ridehailing and different terrains such as road pedestrian walkways railway tracks and roadmarkings which the vehicles must navigate it here that experts test scenarios that even the most experienced of drivers may be pressed to handle from children playing in the street to two cars trying to merge on a junction at the same time change agents  we know the world has to change for humanity to thrive but what are the most promising solutions that could provide the kind of transformation we need in a world adjusting to the recent global pandemic change agents examines innovations and technologies that could make our planet a better healthier place to live  \"in order to test driverless technology like this it depends on hundreds of different variables in any given situation\" explains necmiye ozay associate professor of electrical and computer engineering at the university of michigan her solution is to create a group of varied thinkers  \"we\\'re trying to bring people from different parts of the university â€“ not only engineers but we have people from across disciplines such as psychology more humanmachineinteraction type people because there are lots of angles to this problem we are trying to solve when it comes to safety\" says ozay in the facility ozay and her team can test different traffic scenarios as well as explore how autonomous vehicles communicate with each other yet keep vehicle and personal data secure from hackers  that selfdriving taxis are already on the roads in phoenix arizona is due to a prolonged testing process like the one ozay team is conducting currently only available as a test service to the public in small defined areas in the next two years there are plans to release the taxis on a greater and wider scale for example usbased company waymo is currently rolling out to new city test sites that could very realistically see robotaxis operational in san francisco and new york by 2023 but their cochief executive tekedra mawakana was cautious to say what further roll out of its service there might be and where because \"safety takes time\"  autox a startup funded by alibaba launched its fully driverless robotaxi in shanghai china in 2020 by 2023 it likely their service will be available in other cities across china as well as in california  much of the driverless technology already in use exists in industrial settings like mines warehouses and ports but hynd believes in the next two years we can expect to see this extended to \"last mile delivery\" this means the final part of a journey for goods and services â€“ the point at which they are delivered to the consumer for example autonomous hgv trucks on motorways or even delivery vehicles for products and groceries  five years from now  while apple says it is aiming to launch fully selfdriving electric cars four years from now industry experts are more cautious about what the nearfuture holds  according to fowler the conversation around regulation and insurance companies\\' new role within this transport space needs to mature \"it got to be a very iterative approach where we\\'re starting with pods and shuttles or we\\'re starting with offhighway vehicles where you can see such a benefit and you\\'ve got a more controlled environment potentially and what works with that\" she says \"then we can scale it up and across more vehicle types more use cases\" autonomous shuttles such as these in iserlohn germany could help to link passengers on public transport to other parts of a city (credit alamy)  autonomous shuttles such as these in iserlohn germany could help to link passengers on public transport to other parts of a city (credit alamy)  one new space we can expect to see driverless technology deployed in is highrisk environments from nuclear plants to military settings to limit the dangers to human life says fowler a rio tinto mine in western australia for example is currently operating the largest autonomous fleet in the world the trucks are controlled by a centralised system miles away in perth  \"if you can take people out of that and you can have vehicles that are driving themselves and are fully automated even if you\\'ve got somebody who remotely needing to control that vehicle in that highrisk environment then that got to be good\" says fowler  in the next five years most driverless technology will remain behind the scenes trl is investigating the potential for driverless hgvs on motorways including the idea of platooning vehicles platoons are a group of semiautonomous vehicles that drive a close distance between each other stopping other vehicles from separating them by driving closer together vehicles in a platoon can be more fuel efficient by taking advantage of the slipstream of the truck in front while also helping to reduce congestion as the lorries take up less overall space on the road also in this space is plus the first selfdriving truck manufacturer whose european pilots commenced this year after a successful trial on wufengshan highway in china yangtze delta economic centre  you might also like   the internet behemoth you\\'ve never heard of  the technology to end traffic jams  how google balloons surprised their creators  away from these industries ozay further predicts that \"we will possibly see lighter robotic vehicles that can potentially use sidewalks and bike paths with limited speeds â€“ for delivering things such as food and groceries\"  when it comes to public transport oxbotica is also working with germanbased vehicle systems specialist zf over the next five years to make the driverless shuttle a true mainstay for european cities operating on roads as well as at airports much in the same way buses do now \"the shuttles in airports we see today on rails won\\'t need those rails in five years from now this means driverless shuttles have the potential to transport you from the car park to the airport then straight through to your gate and the plane\" jinks explains   my hope is that cars will be smart enough to say \\'yes\\' or \\'no\\' when asked if they can reliably and safely get a nondriver from point a to point b on a given day â€“ necmiye ozay  for users this could mean more reliable and costefficient transport systems \"interlinking autonomous transport systems to bring a public transport system that is as efficient as you jumping in your own car and driving it yourself has got to be the answer to congestion in the future\" adds jinks  seven years from now  all experts agree that the next seven years will depend on the successes and failures of initial deployments and how safety and public trust evolves accordingly however most hope that city redesigns will enable more adoption of the technology and help move us into modern and more efficient ways of living \"if you live in a dense urban area the hope is that you\\'d be able to rely on mobility as a service you could dial up the car it would arrive in two minutes and you make your journey you wouldn\\'t need to have those vast rows of parked cars in your street which makes the street more navigable for the automated vehicle\" says hynd  without parked cars lining the street roads could be narrower making way for more green spaces but while proponents of selfdriving vehicles insist they will make our roads safer there are some who feel pedestrians and autonomous vehicles simply can\\'t mix it could mean that our cities and the way we use them may need to be reimagined  some of this thinking is already taking place in 2018 ikea developed a concept autonomous vehicle that can double up as meeting rooms hotels and stores the impact this type of innovation would have is reduced requirement for travel in the first place offering instead interchangeable ondemand environments as and when we need them our needs could be met right where we are  ozay expects many more selfdriving options to be available for customers during this time including in the passenger vehicle space \"my hope is that cars will be smart enough to say \\'yes\\' or \\'no\\' when asked if they can reliably and safely get a nondriver from point a to point b on a given day by analysing the weather and traffic conditions beforehand\" she explains  10 years from now  despite all the developments and innovations the next decade is likely to hold some experts still feel we might be a way off from full deployment of driverless vehicles by 2031 \"fullself driving â€“ humanlevel or above in all possible conditions where you can put kids by themselves in the car to send them to arbitrary locations without worrying â€“ is not something i expect to see\" says ozay once commuters can let their cars take over the driving completely will it free them up for new kinds of productivity and activities (credit thomas lohnes/afp/getty images)  once commuters can let their cars take over the driving completely will it free them up for new kinds of productivity and activities (credit thomas lohnes/afp/getty images)  hynd agrees that full automation is unlikely on this timescale \"with anything transport infrastructure anything that society uses so many other things need to come into play and i don\\'t just mean regulation\" he says safety will be a major hurdle especially for countries slower to adopt the change because of the huge costs involved infrastructure will also dictate how fast and effectively this technology can roll out and public perception and willingness to use autonomous vehicles will need to increase according to hynd  but not everyone agrees jinks is confident that we\\'ll see autonomous vehicles on the roads at the same time as humandriven vehicles in 10 years from now in this vein you may very well be stepping onto a driverless shuttle at the airport then into a selfdriving taxi to take you to your final destination  owning a driverless car in the next 10 years is less likely â€“ it\\'ll still be too expensive for most people according to hynd but the promise of driverless technology is about unchaining us from our reliance on cars and how that can transform the use of our time and our environment  \"this is one of the biggest engineering problems that we\\'re trying to solve in a century\" jinks says \"it will be an evolution over time from less complex environments and capabilities to more complex to everywhere it a continuum and think about that continuum it will keep improving over time these things will continuously learn from each other\"  much in the same way that electric charging stations have slowly entered car parks side streets and service stations so too will autonomous vehicles eventually make their way into our everyday worlds years from now we may well be wondering how we ever lived without them'"
      ]
     },
     "execution_count": 12,
     "metadata": {},
     "output_type": "execute_result"
    }
   ],
   "source": [
    "df_text.iloc[0,2]"
   ]
  },
  {
   "cell_type": "code",
   "execution_count": 13,
   "metadata": {},
   "outputs": [
    {
     "name": "stderr",
     "output_type": "stream",
     "text": [
      "[nltk_data] Downloading package punkt to\n",
      "[nltk_data]     C:\\Users\\black\\AppData\\Roaming\\nltk_data...\n",
      "[nltk_data]   Package punkt is already up-to-date!\n",
      "[nltk_data] Downloading package wordnet to\n",
      "[nltk_data]     C:\\Users\\black\\AppData\\Roaming\\nltk_data...\n",
      "[nltk_data]   Package wordnet is already up-to-date!\n"
     ]
    }
   ],
   "source": [
    "#1.5 Stemming and Lemmatization\n",
    "import nltk\n",
    "nltk.download('punkt')\n",
    "nltk.download('wordnet')\n",
    "\n",
    "wordnet_lemmatizer = WordNetLemmatizer()\n",
    "\n",
    "nrows = len(df_text)\n",
    "lemmatized_text_list = []\n",
    "\n",
    "for row in range(0, nrows):\n",
    "    \n",
    "    # Create an empty list containing lemmatized words\n",
    "    lemmatized_list = []\n",
    "    \n",
    "    # Save the text and its words into an object\n",
    "    text = df_text.loc[row]['Changed_Content']\n",
    "    text_words = text.split(\" \")\n",
    "\n",
    "    # Iterate through every word to lemmatize\n",
    "    for word in text_words:\n",
    "        lemmatized_list.append(wordnet_lemmatizer.lemmatize(word, pos=\"v\"))\n",
    "        \n",
    "    # Join the list\n",
    "    lemmatized_text = \" \".join(lemmatized_list)\n",
    "    \n",
    "    # Append to the list containing the texts\n",
    "    lemmatized_text_list.append(lemmatized_text)\n",
    "    \n",
    "df_text['Changed_Content'] = lemmatized_text_list"
   ]
  },
  {
   "cell_type": "markdown",
   "metadata": {},
   "source": [
    "Step 1.5 involves stemming and lemmatization. Lemmatization is used as it transforms the word from a more complex form into a simplier form. This could be seen in \"steadily becoming a...\" is turned into \"steadily become a...\". The word becoming is a more complex form of the word become. Lemmatization helps simplify the informaion that is provided to the model for text classification."
   ]
  },
  {
   "cell_type": "code",
   "execution_count": 14,
   "metadata": {},
   "outputs": [
    {
     "data": {
      "text/plain": [
       "'selfdriving vehicles be steadily become a reality despite the many hurdle still to be overcome â€“ and they could change our world in some unexpected ways i  it a late night in the metro area of phoenix arizona under the artificial glare of street lamps a car can be see slowly approach active sensors on the vehicle radiate a low hum a green and blue \\'w\\' glow from the windscreen give off just enough light to see inside â€“ to a completely empty driver seat  the wheel navigate the curb steadily park as an arrival notification ping on the phone of the person wait for it when they open the door to climb inside a voice greet them over the vehicle sound system \"good even this car be all yours â€“ with no one upfront\" it say  this be a waymo one robotaxi hail just 10 minutes ago use an app the open use of this service to the public slowly expand across the us be one of the many developments signal that driverless technology be truly become a part of our live  the promise of driverless technology have long be entice it have the potential to transform our experience of commute and long journey take people out of highrisk work environments and streamline our industries it key to help us build the cities of the future where our reliance and relationship with cars be redefine â€“ lower carbon emissions and pave the way for more sustainable ways of live and it could make our travel safer the world health organization estimate that more than 13 million people die each year as a result of road traffic crash \"we want safer roads and less fatalities automation ultimately could provide that\" say camilla fowler head of automate transport for the uk transport research laboratory (trl)  but in order for driverless technology to become mainstream much still need to change   \"driverless vehicles should be a very calm and serene way of get from a to b but not every human driver around it will be behave in that way\" say david hynd chief scientist for safety and investigations at trl \"it get to be able to cope with human drivers speed for instance or break the rule of the road\"  and that not the only challenge there regulation rethink the highway code public perception improve the infrastructure of our streets towns cities and the big question of ultimate liability for road accidents \"the whole insurance industry be look into how they\\'re go to deal with that change from a person be responsible and in charge to the vehicle do that\" say richard jinks vice president of commercial at oxfordshirebased driverless vehicle software company oxbotica which have be test its technology in cars and delivery vehicles at several locations across the uk and europe   the ultimate vision experts be work towards be of completely driverless vehicles both within industry wider transport network and personaluse cars that can be deploy and use anywhere and everywhere around the world mcity put driverless cars through their pace in an environment that mimic a real city complete with cross pedestrians (credit jeff kowalsky/afp/getty images)  mcity put driverless cars through their pace in an environment that mimic a real city complete with cross pedestrians (credit jeff kowalsky/afp/getty images)  but with all these hurdle in place what exactly do the next 10 years have in store for autonomous vehicles  two years from now  the biggest hurdle for those in the driverless technology industry be how to get the cars to operate safely and effectively in complex and unpredictable human environments crack this part of the puzzle will be the major focus of the next two years  at the mcity test facility at the university of michigan experts be address this the world first purposebuilt test grind for autonomous vehicles it a minitown of sort make up of 16 acres of road and traffic infrastructure it include traffic signal and sign underpasses build facades tree cover home and garage exterior for test delivery and ridehailing and different terrains such as road pedestrian walkways railway track and roadmarkings which the vehicles must navigate it here that experts test scenarios that even the most experience of drivers may be press to handle from children play in the street to two cars try to merge on a junction at the same time change agents  we know the world have to change for humanity to thrive but what be the most promise solutions that could provide the kind of transformation we need in a world adjust to the recent global pandemic change agents examine innovations and technologies that could make our planet a better healthier place to live  \"in order to test driverless technology like this it depend on hundreds of different variables in any give situation\" explain necmiye ozay associate professor of electrical and computer engineer at the university of michigan her solution be to create a group of vary thinkers  \"we\\'re try to bring people from different part of the university â€“ not only engineer but we have people from across discipline such as psychology more humanmachineinteraction type people because there be lot of angle to this problem we be try to solve when it come to safety\" say ozay in the facility ozay and her team can test different traffic scenarios as well as explore how autonomous vehicles communicate with each other yet keep vehicle and personal data secure from hackers  that selfdriving taxis be already on the roads in phoenix arizona be due to a prolong test process like the one ozay team be conduct currently only available as a test service to the public in small define areas in the next two years there be plan to release the taxis on a greater and wider scale for example usbased company waymo be currently roll out to new city test sit that could very realistically see robotaxis operational in san francisco and new york by 2023 but their cochief executive tekedra mawakana be cautious to say what further roll out of its service there might be and where because \"safety take time\"  autox a startup fund by alibaba launch its fully driverless robotaxi in shanghai china in 2020 by 2023 it likely their service will be available in other cities across china as well as in california  much of the driverless technology already in use exist in industrial settings like mine warehouse and port but hynd believe in the next two years we can expect to see this extend to \"last mile delivery\" this mean the final part of a journey for goods and service â€“ the point at which they be deliver to the consumer for example autonomous hgv truck on motorways or even delivery vehicles for products and groceries  five years from now  while apple say it be aim to launch fully selfdriving electric cars four years from now industry experts be more cautious about what the nearfuture hold  accord to fowler the conversation around regulation and insurance companies\\' new role within this transport space need to mature \"it get to be a very iterative approach where we\\'re start with pod and shuttle or we\\'re start with offhighway vehicles where you can see such a benefit and you\\'ve get a more control environment potentially and what work with that\" she say \"then we can scale it up and across more vehicle type more use cases\" autonomous shuttle such as these in iserlohn germany could help to link passengers on public transport to other part of a city (credit alamy)  autonomous shuttle such as these in iserlohn germany could help to link passengers on public transport to other part of a city (credit alamy)  one new space we can expect to see driverless technology deploy in be highrisk environments from nuclear plant to military settings to limit the dangers to human life say fowler a rio tinto mine in western australia for example be currently operate the largest autonomous fleet in the world the truck be control by a centralise system miles away in perth  \"if you can take people out of that and you can have vehicles that be drive themselves and be fully automate even if you\\'ve get somebody who remotely need to control that vehicle in that highrisk environment then that get to be good\" say fowler  in the next five years most driverless technology will remain behind the scenes trl be investigate the potential for driverless hgvs on motorways include the idea of platooning vehicles platoons be a group of semiautonomous vehicles that drive a close distance between each other stop other vehicles from separate them by drive closer together vehicles in a platoon can be more fuel efficient by take advantage of the slipstream of the truck in front while also help to reduce congestion as the lorries take up less overall space on the road also in this space be plus the first selfdriving truck manufacturer whose european pilot commence this year after a successful trial on wufengshan highway in china yangtze delta economic centre  you might also like   the internet behemoth you\\'ve never hear of  the technology to end traffic jam  how google balloon surprise their creators  away from these industries ozay further predict that \"we will possibly see lighter robotic vehicles that can potentially use sidewalks and bike paths with limit speed â€“ for deliver things such as food and groceries\"  when it come to public transport oxbotica be also work with germanbased vehicle systems specialist zf over the next five years to make the driverless shuttle a true mainstay for european cities operate on roads as well as at airports much in the same way bus do now \"the shuttle in airports we see today on rail won\\'t need those rail in five years from now this mean driverless shuttle have the potential to transport you from the car park to the airport then straight through to your gate and the plane\" jinks explain   my hope be that cars will be smart enough to say \\'yes\\' or \\'no\\' when ask if they can reliably and safely get a nondriver from point a to point b on a give day â€“ necmiye ozay  for users this could mean more reliable and costefficient transport systems \"interlinking autonomous transport systems to bring a public transport system that be as efficient as you jump in your own car and drive it yourself have get to be the answer to congestion in the future\" add jinks  seven years from now  all experts agree that the next seven years will depend on the successes and failures of initial deployments and how safety and public trust evolve accordingly however most hope that city redesign will enable more adoption of the technology and help move us into modern and more efficient ways of live \"if you live in a dense urban area the hope be that you\\'d be able to rely on mobility as a service you could dial up the car it would arrive in two minutes and you make your journey you wouldn\\'t need to have those vast row of park cars in your street which make the street more navigable for the automate vehicle\" say hynd  without park cars line the street roads could be narrower make way for more green space but while proponents of selfdriving vehicles insist they will make our roads safer there be some who feel pedestrians and autonomous vehicles simply can\\'t mix it could mean that our cities and the way we use them may need to be reimagined  some of this think be already take place in 2018 ikea develop a concept autonomous vehicle that can double up as meet room hotels and store the impact this type of innovation would have be reduce requirement for travel in the first place offer instead interchangeable ondemand environments as and when we need them our need could be meet right where we be  ozay expect many more selfdriving options to be available for customers during this time include in the passenger vehicle space \"my hope be that cars will be smart enough to say \\'yes\\' or \\'no\\' when ask if they can reliably and safely get a nondriver from point a to point b on a give day by analyse the weather and traffic condition beforehand\" she explain  10 years from now  despite all the developments and innovations the next decade be likely to hold some experts still feel we might be a way off from full deployment of driverless vehicles by 2031 \"fullself drive â€“ humanlevel or above in all possible condition where you can put kid by themselves in the car to send them to arbitrary locations without worry â€“ be not something i expect to see\" say ozay once commuters can let their cars take over the drive completely will it free them up for new kinds of productivity and activities (credit thomas lohnes/afp/getty images)  once commuters can let their cars take over the drive completely will it free them up for new kinds of productivity and activities (credit thomas lohnes/afp/getty images)  hynd agree that full automation be unlikely on this timescale \"with anything transport infrastructure anything that society use so many other things need to come into play and i don\\'t just mean regulation\" he say safety will be a major hurdle especially for countries slower to adopt the change because of the huge cost involve infrastructure will also dictate how fast and effectively this technology can roll out and public perception and willingness to use autonomous vehicles will need to increase accord to hynd  but not everyone agree jinks be confident that we\\'ll see autonomous vehicles on the roads at the same time as humandriven vehicles in 10 years from now in this vein you may very well be step onto a driverless shuttle at the airport then into a selfdriving taxi to take you to your final destination  own a driverless car in the next 10 years be less likely â€“ it\\'ll still be too expensive for most people accord to hynd but the promise of driverless technology be about unchain us from our reliance on cars and how that can transform the use of our time and our environment  \"this be one of the biggest engineer problems that we\\'re try to solve in a century\" jinks say \"it will be an evolution over time from less complex environments and capabilities to more complex to everywhere it a continuum and think about that continuum it will keep improve over time these things will continuously learn from each other\"  much in the same way that electric charge station have slowly enter car park side streets and service station so too will autonomous vehicles eventually make their way into our everyday worlds years from now we may well be wonder how we ever live without them'"
      ]
     },
     "execution_count": 14,
     "metadata": {},
     "output_type": "execute_result"
    }
   ],
   "source": [
    "df_text.iloc[0,2]"
   ]
  },
  {
   "cell_type": "code",
   "execution_count": 15,
   "metadata": {},
   "outputs": [
    {
     "name": "stderr",
     "output_type": "stream",
     "text": [
      "[nltk_data] Downloading package stopwords to\n",
      "[nltk_data]     C:\\Users\\black\\AppData\\Roaming\\nltk_data...\n",
      "[nltk_data]   Package stopwords is already up-to-date!\n",
      "C:\\Users\\black\\AppData\\Local\\Temp\\ipykernel_7904\\529218496.py:13: FutureWarning: The default value of regex will change from True to False in a future version.\n",
      "  df_text['Changed_Content'] = df_text['Changed_Content'].str.replace(regex_stopword, '')\n"
     ]
    }
   ],
   "source": [
    "#1.6 Stop Words\n",
    "\n",
    "nltk.download('stopwords')\n",
    "\n",
    "# Loading the stop words in english\n",
    "stop_words = list(stopwords.words('english'))\n",
    "\n",
    "df_text['Changed_Content'] = df_text['Changed_Content']\n",
    "\n",
    "for stop_word in stop_words:\n",
    "\n",
    "    regex_stopword = r\"\\b\" + stop_word + r\"\\b\"\n",
    "    df_text['Changed_Content'] = df_text['Changed_Content'].str.replace(regex_stopword, '')"
   ]
  },
  {
   "cell_type": "markdown",
   "metadata": {},
   "source": [
    "Lastly, there is the removal of stop words which is necessary as it removes certain words that are considered unimportant for classification. These words do not provide any information for the classification model. In this case a stop word of they is removed from the text. This could be seen in \"...and they could change our world...\" becoming \"...could change world...\" The important words are still present in the text but they unimportant words such as \"and\", \"they\", and \"our\" which provide not information for classification."
   ]
  },
  {
   "cell_type": "code",
   "execution_count": 16,
   "metadata": {},
   "outputs": [
    {
     "data": {
      "text/plain": [
       "'selfdriving vehicles  steadily become  reality despite  many hurdle still   overcome â€“   could change  world   unexpected ways     late night   metro area  phoenix arizona   artificial glare  street lamps  car   see slowly approach active sensors   vehicle radiate  low hum  green  blue \\'w\\' glow   windscreen give   enough light  see inside â€“   completely empty driver seat   wheel navigate  curb steadily park   arrival notification ping   phone   person wait     open  door  climb inside  voice greet    vehicle sound system \"good even  car    â€“   one upfront\"  say     waymo one robotaxi hail  10 minutes ago use  app  open use   service   public slowly expand across  us  one   many developments signal  driverless technology  truly become  part   live   promise  driverless technology  long  entice    potential  transform  experience  commute  long journey take people   highrisk work environments  streamline  industries  key  help us build  cities   future   reliance  relationship  cars  redefine â€“ lower carbon emissions  pave  way   sustainable ways  live   could make  travel safer  world health organization estimate    13 million people die  year   result  road traffic crash \" want safer roads  less fatalities automation ultimately could provide \" say camilla fowler head  automate transport   uk transport research laboratory (trl)    order  driverless technology  become mainstream much still need  change   \"driverless vehicles     calm  serene way  get    b   every human driver around    behave   way\" say david hynd chief scientist  safety  investigations  trl \" get   able  cope  human drivers speed  instance  break  rule   road\"       challenge  regulation rethink  highway code public perception improve  infrastructure   streets towns cities   big question  ultimate liability  road accidents \" whole insurance industry  look   \\' go  deal   change   person  responsible   charge   vehicle  \" say richard jinks vice president  commercial  oxfordshirebased driverless vehicle software company oxbotica    test  technology  cars  delivery vehicles  several locations across  uk  europe    ultimate vision experts  work towards   completely driverless vehicles  within industry wider transport network  personaluse cars    deploy  use anywhere  everywhere around  world mcity put driverless cars   pace   environment  mimic  real city complete  cross pedestrians (credit jeff kowalsky/afp/getty images)  mcity put driverless cars   pace   environment  mimic  real city complete  cross pedestrians (credit jeff kowalsky/afp/getty images)      hurdle  place  exactly   next 10 years   store  autonomous vehicles  two years     biggest hurdle     driverless technology industry    get  cars  operate safely  effectively  complex  unpredictable human environments crack  part   puzzle    major focus   next two years    mcity test facility   university  michigan experts  address   world first purposebuilt test grind  autonomous vehicles   minitown  sort make   16 acres  road  traffic infrastructure  include traffic signal  sign underpasses build facades tree cover home  garage exterior  test delivery  ridehailing  different terrains   road pedestrian walkways railway track  roadmarkings   vehicles must navigate    experts test scenarios  even   experience  drivers may  press  handle  children play   street  two cars try  merge   junction    time change agents   know  world   change  humanity  thrive      promise solutions  could provide  kind  transformation  need   world adjust   recent global pandemic change agents examine innovations  technologies  could make  planet  better healthier place  live  \" order  test driverless technology like   depend  hundreds  different variables   give situation\" explain necmiye ozay associate professor  electrical  computer engineer   university  michigan  solution   create  group  vary thinkers  \"\\' try  bring people  different part   university â€“   engineer    people  across discipline   psychology  humanmachineinteraction type people    lot  angle   problem   try  solve   come  safety\" say ozay   facility ozay   team  test different traffic scenarios  well  explore  autonomous vehicles communicate    yet keep vehicle  personal data secure  hackers   selfdriving taxis  already   roads  phoenix arizona  due   prolong test process like  one ozay team  conduct currently  available   test service   public  small define areas   next two years   plan  release  taxis   greater  wider scale  example usbased company waymo  currently roll   new city test sit  could  realistically see robotaxis operational  san francisco  new york  2023   cochief executive tekedra mawakana  cautious  say   roll    service  might     \"safety take time\"  autox  startup fund  alibaba launch  fully driverless robotaxi  shanghai china  2020  2023  likely  service   available   cities across china  well   california  much   driverless technology already  use exist  industrial settings like mine warehouse  port  hynd believe   next two years   expect  see  extend  \"last mile delivery\"  mean  final part   journey  goods  service â€“  point     deliver   consumer  example autonomous hgv truck  motorways  even delivery vehicles  products  groceries  five years     apple say   aim  launch fully selfdriving electric cars four years   industry experts   cautious    nearfuture hold  accord  fowler  conversation around regulation  insurance companies\\' new role within  transport space need  mature \" get     iterative approach  \\' start  pod  shuttle  \\' start  offhighway vehicles    see   benefit  \\' get   control environment potentially   work  \"  say \"   scale    across  vehicle type  use cases\" autonomous shuttle     iserlohn germany could help  link passengers  public transport   part   city (credit alamy)  autonomous shuttle     iserlohn germany could help  link passengers  public transport   part   city (credit alamy)  one new space   expect  see driverless technology deploy   highrisk environments  nuclear plant  military settings  limit  dangers  human life say fowler  rio tinto mine  western australia  example  currently operate  largest autonomous fleet   world  truck  control   centralise system miles away  perth  \"   take people        vehicles   drive    fully automate even  \\' get somebody  remotely need  control  vehicle   highrisk environment   get   good\" say fowler    next five years  driverless technology  remain behind  scenes trl  investigate  potential  driverless hgvs  motorways include  idea  platooning vehicles platoons   group  semiautonomous vehicles  drive  close distance    stop  vehicles  separate   drive closer together vehicles   platoon    fuel efficient  take advantage   slipstream   truck  front  also help  reduce congestion   lorries take  less overall space   road also   space  plus  first selfdriving truck manufacturer whose european pilot commence  year   successful trial  wufengshan highway  china yangtze delta economic centre   might also like    internet behemoth \\' never hear    technology  end traffic jam   google balloon surprise  creators  away   industries ozay  predict  \"  possibly see lighter robotic vehicles   potentially use sidewalks  bike paths  limit speed â€“  deliver things   food  groceries\"    come  public transport oxbotica  also work  germanbased vehicle systems specialist zf   next five years  make  driverless shuttle  true mainstay  european cities operate  roads  well   airports much    way bus   \" shuttle  airports  see today  rail \\' need  rail  five years    mean driverless shuttle   potential  transport    car park   airport  straight    gate   plane\" jinks explain    hope   cars   smart enough  say \\'yes\\'  \\'\\'  ask    reliably  safely get  nondriver  point   point b   give day â€“ necmiye ozay   users  could mean  reliable  costefficient transport systems \"interlinking autonomous transport systems  bring  public transport system    efficient   jump    car  drive    get    answer  congestion   future\" add jinks  seven years     experts agree   next seven years  depend   successes  failures  initial deployments   safety  public trust evolve accordingly however  hope  city redesign  enable  adoption   technology  help move us  modern   efficient ways  live \"  live   dense urban area  hope   \\'  able  rely  mobility   service  could dial   car  would arrive  two minutes   make  journey  \\' need    vast row  park cars   street  make  street  navigable   automate vehicle\" say hynd  without park cars line  street roads could  narrower make way   green space   proponents  selfdriving vehicles insist   make  roads safer     feel pedestrians  autonomous vehicles simply \\' mix  could mean   cities   way  use  may need   reimagined     think  already take place  2018 ikea develop  concept autonomous vehicle   double   meet room hotels  store  impact  type  innovation would   reduce requirement  travel   first place offer instead interchangeable ondemand environments     need   need could  meet right     ozay expect many  selfdriving options   available  customers   time include   passenger vehicle space \" hope   cars   smart enough  say \\'yes\\'  \\'\\'  ask    reliably  safely get  nondriver  point   point b   give day  analyse  weather  traffic condition beforehand\"  explain  10 years    despite   developments  innovations  next decade  likely  hold  experts still feel  might   way   full deployment  driverless vehicles  2031 \"fullself drive â€“ humanlevel     possible condition    put kid     car  send   arbitrary locations without worry â€“   something  expect  see\" say ozay  commuters  let  cars take   drive completely   free    new kinds  productivity  activities (credit thomas lohnes/afp/getty images)   commuters  let  cars take   drive completely   free    new kinds  productivity  activities (credit thomas lohnes/afp/getty images)  hynd agree  full automation  unlikely   timescale \" anything transport infrastructure anything  society use  many  things need  come  play   \\'  mean regulation\"  say safety    major hurdle especially  countries slower  adopt  change    huge cost involve infrastructure  also dictate  fast  effectively  technology  roll   public perception  willingness  use autonomous vehicles  need  increase accord  hynd    everyone agree jinks  confident  \\' see autonomous vehicles   roads    time  humandriven vehicles  10 years     vein  may  well  step onto  driverless shuttle   airport    selfdriving taxi  take    final destination    driverless car   next 10 years  less likely â€“ \\' still   expensive   people accord  hynd   promise  driverless technology   unchain us   reliance  cars     transform  use   time   environment  \"  one   biggest engineer problems  \\' try  solve   century\" jinks say \"    evolution  time  less complex environments  capabilities   complex  everywhere   continuum  think   continuum   keep improve  time  things  continuously learn   \"  much    way  electric charge station  slowly enter car park side streets  service station    autonomous vehicles eventually make  way   everyday worlds years    may well  wonder   ever live without '"
      ]
     },
     "execution_count": 16,
     "metadata": {},
     "output_type": "execute_result"
    }
   ],
   "source": [
    "df_text.iloc[0,2]"
   ]
  },
  {
   "cell_type": "code",
   "execution_count": 17,
   "metadata": {},
   "outputs": [
    {
     "data": {
      "text/html": [
       "<div>\n",
       "<style scoped>\n",
       "    .dataframe tbody tr th:only-of-type {\n",
       "        vertical-align: middle;\n",
       "    }\n",
       "\n",
       "    .dataframe tbody tr th {\n",
       "        vertical-align: top;\n",
       "    }\n",
       "\n",
       "    .dataframe thead th {\n",
       "        text-align: right;\n",
       "    }\n",
       "</style>\n",
       "<table border=\"1\" class=\"dataframe\">\n",
       "  <thead>\n",
       "    <tr style=\"text-align: right;\">\n",
       "      <th></th>\n",
       "      <th>File_Name</th>\n",
       "      <th>Content</th>\n",
       "      <th>Changed_Content</th>\n",
       "      <th>Category</th>\n",
       "      <th>Complete_Filename</th>\n",
       "    </tr>\n",
       "  </thead>\n",
       "  <tbody>\n",
       "    <tr>\n",
       "      <th>0</th>\n",
       "      <td>autonomous_cars</td>\n",
       "      <td>Self-driving vehicles are steadily becoming a ...</td>\n",
       "      <td>selfdriving vehicles  steadily become  reality...</td>\n",
       "      <td>tech</td>\n",
       "      <td>autonomous_cars-tech.txt</td>\n",
       "    </tr>\n",
       "  </tbody>\n",
       "</table>\n",
       "</div>"
      ],
      "text/plain": [
       "         File_Name                                            Content  \\\n",
       "0  autonomous_cars  Self-driving vehicles are steadily becoming a ...   \n",
       "\n",
       "                                     Changed_Content Category  \\\n",
       "0  selfdriving vehicles  steadily become  reality...     tech   \n",
       "\n",
       "          Complete_Filename  \n",
       "0  autonomous_cars-tech.txt  "
      ]
     },
     "metadata": {},
     "output_type": "display_data"
    }
   ],
   "source": [
    "display(df_text) #displays the original content and the changed content after text cleaning"
   ]
  },
  {
   "cell_type": "code",
   "execution_count": 18,
   "metadata": {},
   "outputs": [
    {
     "data": {
      "text/html": [
       "<div>\n",
       "<style scoped>\n",
       "    .dataframe tbody tr th:only-of-type {\n",
       "        vertical-align: middle;\n",
       "    }\n",
       "\n",
       "    .dataframe tbody tr th {\n",
       "        vertical-align: top;\n",
       "    }\n",
       "\n",
       "    .dataframe thead th {\n",
       "        text-align: right;\n",
       "    }\n",
       "</style>\n",
       "<table border=\"1\" class=\"dataframe\">\n",
       "  <thead>\n",
       "    <tr style=\"text-align: right;\">\n",
       "      <th></th>\n",
       "      <th>File_Name</th>\n",
       "      <th>Content</th>\n",
       "      <th>Changed_Content</th>\n",
       "      <th>Category</th>\n",
       "      <th>Complete_Filename</th>\n",
       "      <th>Category_Code</th>\n",
       "    </tr>\n",
       "  </thead>\n",
       "  <tbody>\n",
       "    <tr>\n",
       "      <th>0</th>\n",
       "      <td>autonomous_cars</td>\n",
       "      <td>Self-driving vehicles are steadily becoming a ...</td>\n",
       "      <td>selfdriving vehicles  steadily become  reality...</td>\n",
       "      <td>tech</td>\n",
       "      <td>autonomous_cars-tech.txt</td>\n",
       "      <td>4</td>\n",
       "    </tr>\n",
       "  </tbody>\n",
       "</table>\n",
       "</div>"
      ],
      "text/plain": [
       "         File_Name                                            Content  \\\n",
       "0  autonomous_cars  Self-driving vehicles are steadily becoming a ...   \n",
       "\n",
       "                                     Changed_Content Category  \\\n",
       "0  selfdriving vehicles  steadily become  reality...     tech   \n",
       "\n",
       "          Complete_Filename  Category_Code  \n",
       "0  autonomous_cars-tech.txt              4  "
      ]
     },
     "metadata": {},
     "output_type": "display_data"
    }
   ],
   "source": [
    "#Label Coding\n",
    "category_codes = {\n",
    "    'business': 0,\n",
    "    'entertainment': 1,\n",
    "    'politics': 2,\n",
    "    'sport': 3,\n",
    "    'tech': 4\n",
    "}\n",
    "\n",
    "# Category mapping\n",
    "df_text['Category_Code'] = df_text['Category']\n",
    "df_text = df_text.replace({'Category_Code':category_codes})\n",
    "\n",
    "display(df_text)"
   ]
  },
  {
   "cell_type": "markdown",
   "metadata": {},
   "source": [
    "Label coding is necessary in order for the models to assign a numerical value for classification. These numerical values correspond to the available categories."
   ]
  },
  {
   "cell_type": "code",
   "execution_count": 19,
   "metadata": {},
   "outputs": [],
   "source": [
    "#Train-test split\n",
    "X_test = df_text['Changed_Content'] #x values\n",
    "y_test = df_text['Category_Code'] #y values"
   ]
  },
  {
   "cell_type": "markdown",
   "metadata": {},
   "source": [
    "Due to the dataset only containing one entry, it is not possible to do a train test split and split the dataset into a training and testing dataset. Instead, the models will be trained using the datasets provided [1]. Then after these models are trained, then the dataset created will be used as a testing dataset to see if the model can predict the category of the article provided."
   ]
  },
  {
   "cell_type": "code",
   "execution_count": 20,
   "metadata": {},
   "outputs": [],
   "source": [
    "# Text Representation\n",
    "# Parameter election\n",
    "ngram_range = (1,2)\n",
    "min_df = 1\n",
    "max_df = 1.\n",
    "max_features = 300\n",
    "\n",
    "tfidf = TfidfVectorizer(encoding='utf-8',\n",
    "                        ngram_range=ngram_range,\n",
    "                        stop_words=None,\n",
    "                        lowercase=False,\n",
    "                        max_df=max_df,\n",
    "                        min_df=min_df,\n",
    "                        max_features=max_features,\n",
    "                        norm='l2',\n",
    "                        sublinear_tf=True)\n",
    "\n",
    "features_test = tfidf.fit_transform(X_test).toarray()\n",
    "labels_test = y_test"
   ]
  },
  {
   "cell_type": "markdown",
   "metadata": {},
   "source": [
    "The last major step is text representation in where the text is transformed into a vector of features that can be used by the model. This is done using TfidVectorizer which works by taking a sequence or text and then transforming that text into a set of features."
   ]
  },
  {
   "cell_type": "markdown",
   "metadata": {},
   "source": [
    "# Step 04\n",
    "The next step uses the models that have already be built and optimized [2]. These models have already been trained and so the goal is to enter the dataset created in the previous step in these models to determine if the models can predict the correct label."
   ]
  },
  {
   "cell_type": "code",
   "execution_count": 21,
   "metadata": {},
   "outputs": [
    {
     "name": "stdout",
     "output_type": "stream",
     "text": [
      "The predicted category is: \n",
      "[4]\n",
      "The testing accuracy is: \n",
      "1.0\n"
     ]
    }
   ],
   "source": [
    "#Model Random Forest\n",
    "random_model = pickle.load(open(r'C:\\Users\\black\\CSCE5222_Feature_Engineering\\Feature_Engineering_ICE_1\\Latest-News-Classifier-master\\0. Latest News Classifier\\04. Model Training\\Models\\best_rfc.pickle','rb'))\n",
    "print(\"The predicted category is: \")\n",
    "print(random_model.predict(features_test)) #make prediction\n",
    "\n",
    "print(\"The testing accuracy is: \")\n",
    "print(accuracy_score(labels_test, random_model.predict(features_test))) #determine accuracy"
   ]
  },
  {
   "cell_type": "code",
   "execution_count": 22,
   "metadata": {},
   "outputs": [
    {
     "name": "stdout",
     "output_type": "stream",
     "text": [
      "The predicted category is: \n",
      "[2]\n",
      "The testing accuracy is: \n",
      "0.0\n"
     ]
    }
   ],
   "source": [
    "#Model KNN\n",
    "knn_model = pickle.load(open(r'C:\\Users\\black\\CSCE5222_Feature_Engineering\\Feature_Engineering_ICE_1\\Latest-News-Classifier-master\\0. Latest News Classifier\\04. Model Training\\Models\\best_knnc.pickle','rb'))\n",
    "print(\"The predicted category is: \")\n",
    "print(knn_model.predict(features_test)) #make prediction\n",
    "\n",
    "print(\"The testing accuracy is: \")\n",
    "print(accuracy_score(labels_test, knn_model.predict(features_test))) #determine accuracy"
   ]
  },
  {
   "cell_type": "code",
   "execution_count": 23,
   "metadata": {},
   "outputs": [
    {
     "name": "stdout",
     "output_type": "stream",
     "text": [
      "The predicted category is: \n",
      "[4]\n",
      "The testing accuracy is: \n",
      "1.0\n"
     ]
    }
   ],
   "source": [
    "#Model Multinomial Naive Bayes\n",
    "nb_model = pickle.load(open(r'C:\\Users\\black\\CSCE5222_Feature_Engineering\\Feature_Engineering_ICE_1\\Latest-News-Classifier-master\\0. Latest News Classifier\\04. Model Training\\Models\\best_mnbc.pickle','rb'))\n",
    "print(\"The predicted category is: \")\n",
    "print(nb_model.predict(features_test)) #make prediction\n",
    "\n",
    "print(\"The testing accuracy is: \")\n",
    "print(accuracy_score(labels_test, nb_model.predict(features_test))) #determine accuracy"
   ]
  },
  {
   "cell_type": "code",
   "execution_count": 24,
   "metadata": {},
   "outputs": [
    {
     "name": "stdout",
     "output_type": "stream",
     "text": [
      "The predicted category is: \n",
      "[4]\n",
      "The testing accuracy is: \n",
      "1.0\n"
     ]
    }
   ],
   "source": [
    "#Model Logistic Regression\n",
    "lr_model = pickle.load(open(r'C:\\Users\\black\\CSCE5222_Feature_Engineering\\Feature_Engineering_ICE_1\\Latest-News-Classifier-master\\0. Latest News Classifier\\04. Model Training\\Models\\best_lrc.pickle','rb'))\n",
    "print(\"The predicted category is: \")\n",
    "print(lr_model.predict(features_test)) #make prediction\n",
    "\n",
    "print(\"The testing accuracy is: \")\n",
    "print(accuracy_score(labels_test, lr_model.predict(features_test))) #determine accuracy"
   ]
  },
  {
   "cell_type": "code",
   "execution_count": 25,
   "metadata": {},
   "outputs": [
    {
     "name": "stdout",
     "output_type": "stream",
     "text": [
      "The predicted category is: \n",
      "[4]\n",
      "The testing accuracy is: \n",
      "1.0\n"
     ]
    }
   ],
   "source": [
    "#Model Testing SVM\n",
    "svm_model = pickle.load(open(r'C:\\Users\\black\\CSCE5222_Feature_Engineering\\Feature_Engineering_ICE_1\\Latest-News-Classifier-master\\0. Latest News Classifier\\04. Model Training\\Models\\best_svc.pickle', 'rb'))\n",
    "print(\"The predicted category is: \")\n",
    "print(svm_model.predict(features_test)) #make prediction\n",
    "\n",
    "print(\"The testing accuracy is: \")\n",
    "print(accuracy_score(labels_test, svm_model.predict(features_test))) #determine accuracy"
   ]
  },
  {
   "cell_type": "code",
   "execution_count": 26,
   "metadata": {},
   "outputs": [
    {
     "name": "stdout",
     "output_type": "stream",
     "text": [
      "The predicted category is: \n",
      "[4]\n",
      "The testing accuracy is: \n",
      "1.0\n"
     ]
    },
    {
     "name": "stderr",
     "output_type": "stream",
     "text": [
      "C:\\Users\\black\\anaconda3\\lib\\site-packages\\sklearn\\base.py:318: UserWarning: Trying to unpickle estimator SVC from version 1.0.2 when using version 1.2.2. This might lead to breaking code or invalid results. Use at your own risk. For more info please refer to:\n",
      "https://scikit-learn.org/stable/model_persistence.html#security-maintainability-limitations\n",
      "  warnings.warn(\n"
     ]
    }
   ],
   "source": [
    "#Model Testing Gradient Boosting Machine\n",
    "gbm_model = pickle.load(open(r'C:\\Users\\black\\CSCE5222_Feature_Engineering\\Feature_Engineering_ICE_1\\Latest-News-Classifier-master\\0. Latest News Classifier\\04. Model Training\\Models\\best_gbc.pickle', 'rb'))\n",
    "print(\"The predicted category is: \") #make prediction\n",
    "print(gbm_model.predict(features_test))\n",
    "\n",
    "print(\"The testing accuracy is: \")\n",
    "print(accuracy_score(labels_test, gbm_model.predict(features_test))) #determine accuracy"
   ]
  },
  {
   "cell_type": "markdown",
   "metadata": {},
   "source": [
    "Overall the results show that the accurate models were the Random Forest model, Logisitic Regression, Naive Bayes, SVM, and Gradient Boosting Machine model. This is shown as the correct category was predicted as well as the testing accuracy being 1.0. The other models predicted category 2 which is politics. This could be due to the prescence of several words such as \"challenge  regulation rethink  highway code public perception improve  infrastructure   streets towns cities\" which pertain to politics and government. "
   ]
  },
  {
   "cell_type": "markdown",
   "metadata": {},
   "source": [
    "# Sources\n",
    "[1] J. Cusack, “How driverless cars will change our world,” BBC Future, https://www.bbc.com/future/article/20211126-how-driverless-cars-will-change-our-world (accessed May 2023). \n",
    "\n",
    "[2] M. F. Zafra, “Latest-news-classifier/0. latest news classifier at master · Miguelfzafra/latest-news-classifier,” GitHub, https://github.com/miguelfzafra/Latest-News-Classifier/tree/master/0.%20Latest%20News%20Classifier (accessed May 2023). "
   ]
  }
 ],
 "metadata": {
  "colab": {
   "provenance": []
  },
  "kernelspec": {
   "display_name": "Python 3 (ipykernel)",
   "language": "python",
   "name": "python3"
  },
  "language_info": {
   "codemirror_mode": {
    "name": "ipython",
    "version": 3
   },
   "file_extension": ".py",
   "mimetype": "text/x-python",
   "name": "python",
   "nbconvert_exporter": "python",
   "pygments_lexer": "ipython3",
   "version": "3.9.13"
  }
 },
 "nbformat": 4,
 "nbformat_minor": 1
}
